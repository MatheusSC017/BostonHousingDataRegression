{
  "nbformat": 4,
  "nbformat_minor": 0,
  "metadata": {
    "colab": {
      "name": "BostonHousingData.ipynb",
      "provenance": [],
      "collapsed_sections": [
        "54keIoAYYpT5",
        "PXArO9NRY37S",
        "qcp95QPrbwUS",
        "pZ7MCEoSY3g2",
        "IlALMV4per2l",
        "bHEsB0YET8gC",
        "w96jnxm0aBA7",
        "CV0sfFRRJM0u",
        "wtTnmn51JRVh",
        "ko8FQDdoJXJj",
        "SdC67KMVJfH6",
        "YVflvoGMk_p4",
        "nGDk1yoKk8JO",
        "XIHtNfjMHIQH",
        "EmmMIjpZ5XHi",
        "kiggCHUlOqaf",
        "uF3niHbTOntg"
      ],
      "authorship_tag": "ABX9TyMc+SmLEVJe0YFXP7bg0/Vd",
      "include_colab_link": true
    },
    "kernelspec": {
      "name": "python3",
      "display_name": "Python 3"
    },
    "language_info": {
      "name": "python"
    }
  },
  "cells": [
    {
      "cell_type": "markdown",
      "metadata": {
        "id": "view-in-github",
        "colab_type": "text"
      },
      "source": [
        "<a href=\"https://colab.research.google.com/github/MatheusSC017/BostonHousingDataRegression_SKLearn/blob/main/BostonHousingData.ipynb\" target=\"_parent\"><img src=\"https://colab.research.google.com/assets/colab-badge.svg\" alt=\"Open In Colab\"/></a>"
      ]
    },
    {
      "cell_type": "markdown",
      "source": [
        "# Boston Housing Data Regression"
      ],
      "metadata": {
        "id": "mon7gf_9YpIp"
      }
    },
    {
      "cell_type": "markdown",
      "source": [
        "## Libraries\n",
        "To start, let's import the libraries to use in this project."
      ],
      "metadata": {
        "id": "54keIoAYYpT5"
      }
    },
    {
      "cell_type": "code",
      "execution_count": 1,
      "metadata": {
        "id": "3v1k7CC09EPb"
      },
      "outputs": [],
      "source": [
        "from sklearn.datasets import load_boston\n",
        "from sklearn.preprocessing import QuantileTransformer\n",
        "from sklearn.decomposition import PCA\n",
        "from sklearn.feature_selection import SequentialFeatureSelector\n",
        "from sklearn.model_selection import (\n",
        "    train_test_split, \n",
        "    GridSearchCV\n",
        ")\n",
        "from sklearn.ensemble import (\n",
        "    GradientBoostingRegressor,\n",
        "    HistGradientBoostingRegressor,\n",
        "    AdaBoostRegressor, \n",
        "    RandomForestRegressor,\n",
        "    ExtraTreesRegressor,\n",
        ") \n",
        "from sklearn.pipeline import Pipeline\n",
        "from sklearn.metrics import mean_squared_error\n",
        "from matplotlib import pyplot as plt\n",
        "import seaborn as  sbn\n",
        "import numpy as np\n",
        "import pandas as pd"
      ]
    },
    {
      "cell_type": "markdown",
      "source": [
        "## Dataset Import\n",
        "We will import the Boston housing dataset through the load_boston() method of the SKLearn library, which will return an object containing the dataset information, such as feature name, data and target."
      ],
      "metadata": {
        "id": "PXArO9NRY37S"
      }
    },
    {
      "cell_type": "code",
      "source": [
        "boston_data = load_boston()"
      ],
      "metadata": {
        "colab": {
          "base_uri": "https://localhost:8080/"
        },
        "id": "NSzmqdbTY6gB",
        "outputId": "db462be8-3c57-45ed-c6eb-6454bcbcc37c"
      },
      "execution_count": 2,
      "outputs": [
        {
          "output_type": "stream",
          "name": "stderr",
          "text": [
            "/usr/local/lib/python3.7/dist-packages/sklearn/utils/deprecation.py:87: FutureWarning: Function load_boston is deprecated; `load_boston` is deprecated in 1.0 and will be removed in 1.2.\n",
            "\n",
            "    The Boston housing prices dataset has an ethical problem. You can refer to\n",
            "    the documentation of this function for further details.\n",
            "\n",
            "    The scikit-learn maintainers therefore strongly discourage the use of this\n",
            "    dataset unless the purpose of the code is to study and educate about\n",
            "    ethical issues in data science and machine learning.\n",
            "\n",
            "    In this special case, you can fetch the dataset from the original\n",
            "    source::\n",
            "\n",
            "        import pandas as pd\n",
            "        import numpy as np\n",
            "\n",
            "\n",
            "        data_url = \"http://lib.stat.cmu.edu/datasets/boston\"\n",
            "        raw_df = pd.read_csv(data_url, sep=\"\\s+\", skiprows=22, header=None)\n",
            "        data = np.hstack([raw_df.values[::2, :], raw_df.values[1::2, :2]])\n",
            "        target = raw_df.values[1::2, 2]\n",
            "\n",
            "    Alternative datasets include the California housing dataset (i.e.\n",
            "    :func:`~sklearn.datasets.fetch_california_housing`) and the Ames housing\n",
            "    dataset. You can load the datasets as follows::\n",
            "\n",
            "        from sklearn.datasets import fetch_california_housing\n",
            "        housing = fetch_california_housing()\n",
            "\n",
            "    for the California housing dataset and::\n",
            "\n",
            "        from sklearn.datasets import fetch_openml\n",
            "        housing = fetch_openml(name=\"house_prices\", as_frame=True)\n",
            "\n",
            "    for the Ames housing dataset.\n",
            "    \n",
            "  warnings.warn(msg, category=FutureWarning)\n"
          ]
        }
      ]
    },
    {
      "cell_type": "code",
      "source": [
        "boston_data.keys()"
      ],
      "metadata": {
        "colab": {
          "base_uri": "https://localhost:8080/"
        },
        "id": "ayXyn_Z1ZY1q",
        "outputId": "ab16f8db-9d0e-4b72-d424-4c4075f22e33"
      },
      "execution_count": 3,
      "outputs": [
        {
          "output_type": "execute_result",
          "data": {
            "text/plain": [
              "dict_keys(['data', 'target', 'feature_names', 'DESCR', 'filename', 'data_module'])"
            ]
          },
          "metadata": {},
          "execution_count": 3
        }
      ]
    },
    {
      "cell_type": "code",
      "source": [
        "print(boston_data.DESCR)"
      ],
      "metadata": {
        "colab": {
          "base_uri": "https://localhost:8080/"
        },
        "id": "QUuM5obwZ2n7",
        "outputId": "50c218aa-c516-4f55-9793-a81af0ffc45f"
      },
      "execution_count": 4,
      "outputs": [
        {
          "output_type": "stream",
          "name": "stdout",
          "text": [
            ".. _boston_dataset:\n",
            "\n",
            "Boston house prices dataset\n",
            "---------------------------\n",
            "\n",
            "**Data Set Characteristics:**  \n",
            "\n",
            "    :Number of Instances: 506 \n",
            "\n",
            "    :Number of Attributes: 13 numeric/categorical predictive. Median Value (attribute 14) is usually the target.\n",
            "\n",
            "    :Attribute Information (in order):\n",
            "        - CRIM     per capita crime rate by town\n",
            "        - ZN       proportion of residential land zoned for lots over 25,000 sq.ft.\n",
            "        - INDUS    proportion of non-retail business acres per town\n",
            "        - CHAS     Charles River dummy variable (= 1 if tract bounds river; 0 otherwise)\n",
            "        - NOX      nitric oxides concentration (parts per 10 million)\n",
            "        - RM       average number of rooms per dwelling\n",
            "        - AGE      proportion of owner-occupied units built prior to 1940\n",
            "        - DIS      weighted distances to five Boston employment centres\n",
            "        - RAD      index of accessibility to radial highways\n",
            "        - TAX      full-value property-tax rate per $10,000\n",
            "        - PTRATIO  pupil-teacher ratio by town\n",
            "        - B        1000(Bk - 0.63)^2 where Bk is the proportion of black people by town\n",
            "        - LSTAT    % lower status of the population\n",
            "        - MEDV     Median value of owner-occupied homes in $1000's\n",
            "\n",
            "    :Missing Attribute Values: None\n",
            "\n",
            "    :Creator: Harrison, D. and Rubinfeld, D.L.\n",
            "\n",
            "This is a copy of UCI ML housing dataset.\n",
            "https://archive.ics.uci.edu/ml/machine-learning-databases/housing/\n",
            "\n",
            "\n",
            "This dataset was taken from the StatLib library which is maintained at Carnegie Mellon University.\n",
            "\n",
            "The Boston house-price data of Harrison, D. and Rubinfeld, D.L. 'Hedonic\n",
            "prices and the demand for clean air', J. Environ. Economics & Management,\n",
            "vol.5, 81-102, 1978.   Used in Belsley, Kuh & Welsch, 'Regression diagnostics\n",
            "...', Wiley, 1980.   N.B. Various transformations are used in the table on\n",
            "pages 244-261 of the latter.\n",
            "\n",
            "The Boston house-price data has been used in many machine learning papers that address regression\n",
            "problems.   \n",
            "     \n",
            ".. topic:: References\n",
            "\n",
            "   - Belsley, Kuh & Welsch, 'Regression diagnostics: Identifying Influential Data and Sources of Collinearity', Wiley, 1980. 244-261.\n",
            "   - Quinlan,R. (1993). Combining Instance-Based and Model-Based Learning. In Proceedings on the Tenth International Conference of Machine Learning, 236-243, University of Massachusetts, Amherst. Morgan Kaufmann.\n",
            "\n"
          ]
        }
      ]
    },
    {
      "cell_type": "code",
      "source": [
        "boston_df = pd.DataFrame(boston_data.data, columns=boston_data.feature_names)\n",
        "boston_df['Prices'] = boston_data.target\n",
        "boston_df"
      ],
      "metadata": {
        "colab": {
          "base_uri": "https://localhost:8080/",
          "height": 0
        },
        "id": "RfpepE_8ZcQQ",
        "outputId": "c7d21217-9dec-4230-f8a4-64c276ed9ac0"
      },
      "execution_count": 5,
      "outputs": [
        {
          "output_type": "execute_result",
          "data": {
            "text/plain": [
              "        CRIM    ZN  INDUS  CHAS    NOX     RM   AGE     DIS  RAD    TAX  \\\n",
              "0    0.00632  18.0   2.31   0.0  0.538  6.575  65.2  4.0900  1.0  296.0   \n",
              "1    0.02731   0.0   7.07   0.0  0.469  6.421  78.9  4.9671  2.0  242.0   \n",
              "2    0.02729   0.0   7.07   0.0  0.469  7.185  61.1  4.9671  2.0  242.0   \n",
              "3    0.03237   0.0   2.18   0.0  0.458  6.998  45.8  6.0622  3.0  222.0   \n",
              "4    0.06905   0.0   2.18   0.0  0.458  7.147  54.2  6.0622  3.0  222.0   \n",
              "..       ...   ...    ...   ...    ...    ...   ...     ...  ...    ...   \n",
              "501  0.06263   0.0  11.93   0.0  0.573  6.593  69.1  2.4786  1.0  273.0   \n",
              "502  0.04527   0.0  11.93   0.0  0.573  6.120  76.7  2.2875  1.0  273.0   \n",
              "503  0.06076   0.0  11.93   0.0  0.573  6.976  91.0  2.1675  1.0  273.0   \n",
              "504  0.10959   0.0  11.93   0.0  0.573  6.794  89.3  2.3889  1.0  273.0   \n",
              "505  0.04741   0.0  11.93   0.0  0.573  6.030  80.8  2.5050  1.0  273.0   \n",
              "\n",
              "     PTRATIO       B  LSTAT  Prices  \n",
              "0       15.3  396.90   4.98    24.0  \n",
              "1       17.8  396.90   9.14    21.6  \n",
              "2       17.8  392.83   4.03    34.7  \n",
              "3       18.7  394.63   2.94    33.4  \n",
              "4       18.7  396.90   5.33    36.2  \n",
              "..       ...     ...    ...     ...  \n",
              "501     21.0  391.99   9.67    22.4  \n",
              "502     21.0  396.90   9.08    20.6  \n",
              "503     21.0  396.90   5.64    23.9  \n",
              "504     21.0  393.45   6.48    22.0  \n",
              "505     21.0  396.90   7.88    11.9  \n",
              "\n",
              "[506 rows x 14 columns]"
            ],
            "text/html": [
              "\n",
              "  <div id=\"df-4378bc5b-dfce-4c65-83f5-3e968c69a446\">\n",
              "    <div class=\"colab-df-container\">\n",
              "      <div>\n",
              "<style scoped>\n",
              "    .dataframe tbody tr th:only-of-type {\n",
              "        vertical-align: middle;\n",
              "    }\n",
              "\n",
              "    .dataframe tbody tr th {\n",
              "        vertical-align: top;\n",
              "    }\n",
              "\n",
              "    .dataframe thead th {\n",
              "        text-align: right;\n",
              "    }\n",
              "</style>\n",
              "<table border=\"1\" class=\"dataframe\">\n",
              "  <thead>\n",
              "    <tr style=\"text-align: right;\">\n",
              "      <th></th>\n",
              "      <th>CRIM</th>\n",
              "      <th>ZN</th>\n",
              "      <th>INDUS</th>\n",
              "      <th>CHAS</th>\n",
              "      <th>NOX</th>\n",
              "      <th>RM</th>\n",
              "      <th>AGE</th>\n",
              "      <th>DIS</th>\n",
              "      <th>RAD</th>\n",
              "      <th>TAX</th>\n",
              "      <th>PTRATIO</th>\n",
              "      <th>B</th>\n",
              "      <th>LSTAT</th>\n",
              "      <th>Prices</th>\n",
              "    </tr>\n",
              "  </thead>\n",
              "  <tbody>\n",
              "    <tr>\n",
              "      <th>0</th>\n",
              "      <td>0.00632</td>\n",
              "      <td>18.0</td>\n",
              "      <td>2.31</td>\n",
              "      <td>0.0</td>\n",
              "      <td>0.538</td>\n",
              "      <td>6.575</td>\n",
              "      <td>65.2</td>\n",
              "      <td>4.0900</td>\n",
              "      <td>1.0</td>\n",
              "      <td>296.0</td>\n",
              "      <td>15.3</td>\n",
              "      <td>396.90</td>\n",
              "      <td>4.98</td>\n",
              "      <td>24.0</td>\n",
              "    </tr>\n",
              "    <tr>\n",
              "      <th>1</th>\n",
              "      <td>0.02731</td>\n",
              "      <td>0.0</td>\n",
              "      <td>7.07</td>\n",
              "      <td>0.0</td>\n",
              "      <td>0.469</td>\n",
              "      <td>6.421</td>\n",
              "      <td>78.9</td>\n",
              "      <td>4.9671</td>\n",
              "      <td>2.0</td>\n",
              "      <td>242.0</td>\n",
              "      <td>17.8</td>\n",
              "      <td>396.90</td>\n",
              "      <td>9.14</td>\n",
              "      <td>21.6</td>\n",
              "    </tr>\n",
              "    <tr>\n",
              "      <th>2</th>\n",
              "      <td>0.02729</td>\n",
              "      <td>0.0</td>\n",
              "      <td>7.07</td>\n",
              "      <td>0.0</td>\n",
              "      <td>0.469</td>\n",
              "      <td>7.185</td>\n",
              "      <td>61.1</td>\n",
              "      <td>4.9671</td>\n",
              "      <td>2.0</td>\n",
              "      <td>242.0</td>\n",
              "      <td>17.8</td>\n",
              "      <td>392.83</td>\n",
              "      <td>4.03</td>\n",
              "      <td>34.7</td>\n",
              "    </tr>\n",
              "    <tr>\n",
              "      <th>3</th>\n",
              "      <td>0.03237</td>\n",
              "      <td>0.0</td>\n",
              "      <td>2.18</td>\n",
              "      <td>0.0</td>\n",
              "      <td>0.458</td>\n",
              "      <td>6.998</td>\n",
              "      <td>45.8</td>\n",
              "      <td>6.0622</td>\n",
              "      <td>3.0</td>\n",
              "      <td>222.0</td>\n",
              "      <td>18.7</td>\n",
              "      <td>394.63</td>\n",
              "      <td>2.94</td>\n",
              "      <td>33.4</td>\n",
              "    </tr>\n",
              "    <tr>\n",
              "      <th>4</th>\n",
              "      <td>0.06905</td>\n",
              "      <td>0.0</td>\n",
              "      <td>2.18</td>\n",
              "      <td>0.0</td>\n",
              "      <td>0.458</td>\n",
              "      <td>7.147</td>\n",
              "      <td>54.2</td>\n",
              "      <td>6.0622</td>\n",
              "      <td>3.0</td>\n",
              "      <td>222.0</td>\n",
              "      <td>18.7</td>\n",
              "      <td>396.90</td>\n",
              "      <td>5.33</td>\n",
              "      <td>36.2</td>\n",
              "    </tr>\n",
              "    <tr>\n",
              "      <th>...</th>\n",
              "      <td>...</td>\n",
              "      <td>...</td>\n",
              "      <td>...</td>\n",
              "      <td>...</td>\n",
              "      <td>...</td>\n",
              "      <td>...</td>\n",
              "      <td>...</td>\n",
              "      <td>...</td>\n",
              "      <td>...</td>\n",
              "      <td>...</td>\n",
              "      <td>...</td>\n",
              "      <td>...</td>\n",
              "      <td>...</td>\n",
              "      <td>...</td>\n",
              "    </tr>\n",
              "    <tr>\n",
              "      <th>501</th>\n",
              "      <td>0.06263</td>\n",
              "      <td>0.0</td>\n",
              "      <td>11.93</td>\n",
              "      <td>0.0</td>\n",
              "      <td>0.573</td>\n",
              "      <td>6.593</td>\n",
              "      <td>69.1</td>\n",
              "      <td>2.4786</td>\n",
              "      <td>1.0</td>\n",
              "      <td>273.0</td>\n",
              "      <td>21.0</td>\n",
              "      <td>391.99</td>\n",
              "      <td>9.67</td>\n",
              "      <td>22.4</td>\n",
              "    </tr>\n",
              "    <tr>\n",
              "      <th>502</th>\n",
              "      <td>0.04527</td>\n",
              "      <td>0.0</td>\n",
              "      <td>11.93</td>\n",
              "      <td>0.0</td>\n",
              "      <td>0.573</td>\n",
              "      <td>6.120</td>\n",
              "      <td>76.7</td>\n",
              "      <td>2.2875</td>\n",
              "      <td>1.0</td>\n",
              "      <td>273.0</td>\n",
              "      <td>21.0</td>\n",
              "      <td>396.90</td>\n",
              "      <td>9.08</td>\n",
              "      <td>20.6</td>\n",
              "    </tr>\n",
              "    <tr>\n",
              "      <th>503</th>\n",
              "      <td>0.06076</td>\n",
              "      <td>0.0</td>\n",
              "      <td>11.93</td>\n",
              "      <td>0.0</td>\n",
              "      <td>0.573</td>\n",
              "      <td>6.976</td>\n",
              "      <td>91.0</td>\n",
              "      <td>2.1675</td>\n",
              "      <td>1.0</td>\n",
              "      <td>273.0</td>\n",
              "      <td>21.0</td>\n",
              "      <td>396.90</td>\n",
              "      <td>5.64</td>\n",
              "      <td>23.9</td>\n",
              "    </tr>\n",
              "    <tr>\n",
              "      <th>504</th>\n",
              "      <td>0.10959</td>\n",
              "      <td>0.0</td>\n",
              "      <td>11.93</td>\n",
              "      <td>0.0</td>\n",
              "      <td>0.573</td>\n",
              "      <td>6.794</td>\n",
              "      <td>89.3</td>\n",
              "      <td>2.3889</td>\n",
              "      <td>1.0</td>\n",
              "      <td>273.0</td>\n",
              "      <td>21.0</td>\n",
              "      <td>393.45</td>\n",
              "      <td>6.48</td>\n",
              "      <td>22.0</td>\n",
              "    </tr>\n",
              "    <tr>\n",
              "      <th>505</th>\n",
              "      <td>0.04741</td>\n",
              "      <td>0.0</td>\n",
              "      <td>11.93</td>\n",
              "      <td>0.0</td>\n",
              "      <td>0.573</td>\n",
              "      <td>6.030</td>\n",
              "      <td>80.8</td>\n",
              "      <td>2.5050</td>\n",
              "      <td>1.0</td>\n",
              "      <td>273.0</td>\n",
              "      <td>21.0</td>\n",
              "      <td>396.90</td>\n",
              "      <td>7.88</td>\n",
              "      <td>11.9</td>\n",
              "    </tr>\n",
              "  </tbody>\n",
              "</table>\n",
              "<p>506 rows × 14 columns</p>\n",
              "</div>\n",
              "      <button class=\"colab-df-convert\" onclick=\"convertToInteractive('df-4378bc5b-dfce-4c65-83f5-3e968c69a446')\"\n",
              "              title=\"Convert this dataframe to an interactive table.\"\n",
              "              style=\"display:none;\">\n",
              "        \n",
              "  <svg xmlns=\"http://www.w3.org/2000/svg\" height=\"24px\"viewBox=\"0 0 24 24\"\n",
              "       width=\"24px\">\n",
              "    <path d=\"M0 0h24v24H0V0z\" fill=\"none\"/>\n",
              "    <path d=\"M18.56 5.44l.94 2.06.94-2.06 2.06-.94-2.06-.94-.94-2.06-.94 2.06-2.06.94zm-11 1L8.5 8.5l.94-2.06 2.06-.94-2.06-.94L8.5 2.5l-.94 2.06-2.06.94zm10 10l.94 2.06.94-2.06 2.06-.94-2.06-.94-.94-2.06-.94 2.06-2.06.94z\"/><path d=\"M17.41 7.96l-1.37-1.37c-.4-.4-.92-.59-1.43-.59-.52 0-1.04.2-1.43.59L10.3 9.45l-7.72 7.72c-.78.78-.78 2.05 0 2.83L4 21.41c.39.39.9.59 1.41.59.51 0 1.02-.2 1.41-.59l7.78-7.78 2.81-2.81c.8-.78.8-2.07 0-2.86zM5.41 20L4 18.59l7.72-7.72 1.47 1.35L5.41 20z\"/>\n",
              "  </svg>\n",
              "      </button>\n",
              "      \n",
              "  <style>\n",
              "    .colab-df-container {\n",
              "      display:flex;\n",
              "      flex-wrap:wrap;\n",
              "      gap: 12px;\n",
              "    }\n",
              "\n",
              "    .colab-df-convert {\n",
              "      background-color: #E8F0FE;\n",
              "      border: none;\n",
              "      border-radius: 50%;\n",
              "      cursor: pointer;\n",
              "      display: none;\n",
              "      fill: #1967D2;\n",
              "      height: 32px;\n",
              "      padding: 0 0 0 0;\n",
              "      width: 32px;\n",
              "    }\n",
              "\n",
              "    .colab-df-convert:hover {\n",
              "      background-color: #E2EBFA;\n",
              "      box-shadow: 0px 1px 2px rgba(60, 64, 67, 0.3), 0px 1px 3px 1px rgba(60, 64, 67, 0.15);\n",
              "      fill: #174EA6;\n",
              "    }\n",
              "\n",
              "    [theme=dark] .colab-df-convert {\n",
              "      background-color: #3B4455;\n",
              "      fill: #D2E3FC;\n",
              "    }\n",
              "\n",
              "    [theme=dark] .colab-df-convert:hover {\n",
              "      background-color: #434B5C;\n",
              "      box-shadow: 0px 1px 3px 1px rgba(0, 0, 0, 0.15);\n",
              "      filter: drop-shadow(0px 1px 2px rgba(0, 0, 0, 0.3));\n",
              "      fill: #FFFFFF;\n",
              "    }\n",
              "  </style>\n",
              "\n",
              "      <script>\n",
              "        const buttonEl =\n",
              "          document.querySelector('#df-4378bc5b-dfce-4c65-83f5-3e968c69a446 button.colab-df-convert');\n",
              "        buttonEl.style.display =\n",
              "          google.colab.kernel.accessAllowed ? 'block' : 'none';\n",
              "\n",
              "        async function convertToInteractive(key) {\n",
              "          const element = document.querySelector('#df-4378bc5b-dfce-4c65-83f5-3e968c69a446');\n",
              "          const dataTable =\n",
              "            await google.colab.kernel.invokeFunction('convertToInteractive',\n",
              "                                                     [key], {});\n",
              "          if (!dataTable) return;\n",
              "\n",
              "          const docLinkHtml = 'Like what you see? Visit the ' +\n",
              "            '<a target=\"_blank\" href=https://colab.research.google.com/notebooks/data_table.ipynb>data table notebook</a>'\n",
              "            + ' to learn more about interactive tables.';\n",
              "          element.innerHTML = '';\n",
              "          dataTable['output_type'] = 'display_data';\n",
              "          await google.colab.output.renderOutput(dataTable, element);\n",
              "          const docLink = document.createElement('div');\n",
              "          docLink.innerHTML = docLinkHtml;\n",
              "          element.appendChild(docLink);\n",
              "        }\n",
              "      </script>\n",
              "    </div>\n",
              "  </div>\n",
              "  "
            ]
          },
          "metadata": {},
          "execution_count": 5
        }
      ]
    },
    {
      "cell_type": "markdown",
      "source": [
        "## Data Clean\n",
        "Using the info() method of pandas.DataFrame we noticed that there are no missing values."
      ],
      "metadata": {
        "id": "qcp95QPrbwUS"
      }
    },
    {
      "cell_type": "code",
      "source": [
        "boston_df.info()"
      ],
      "metadata": {
        "colab": {
          "base_uri": "https://localhost:8080/"
        },
        "id": "SIdqSGRNaMkM",
        "outputId": "46e879db-523f-4877-95bb-3d3bdfaac024"
      },
      "execution_count": 6,
      "outputs": [
        {
          "output_type": "stream",
          "name": "stdout",
          "text": [
            "<class 'pandas.core.frame.DataFrame'>\n",
            "RangeIndex: 506 entries, 0 to 505\n",
            "Data columns (total 14 columns):\n",
            " #   Column   Non-Null Count  Dtype  \n",
            "---  ------   --------------  -----  \n",
            " 0   CRIM     506 non-null    float64\n",
            " 1   ZN       506 non-null    float64\n",
            " 2   INDUS    506 non-null    float64\n",
            " 3   CHAS     506 non-null    float64\n",
            " 4   NOX      506 non-null    float64\n",
            " 5   RM       506 non-null    float64\n",
            " 6   AGE      506 non-null    float64\n",
            " 7   DIS      506 non-null    float64\n",
            " 8   RAD      506 non-null    float64\n",
            " 9   TAX      506 non-null    float64\n",
            " 10  PTRATIO  506 non-null    float64\n",
            " 11  B        506 non-null    float64\n",
            " 12  LSTAT    506 non-null    float64\n",
            " 13  Prices   506 non-null    float64\n",
            "dtypes: float64(14)\n",
            "memory usage: 55.5 KB\n"
          ]
        }
      ]
    },
    {
      "cell_type": "markdown",
      "source": [
        "## Analyzing the raw data\n",
        "In this section we will analyze our raw data and check if it is necessary to normalize them, checking information such as distribution, outliers and general information (mean, std, min, max and quantiles)."
      ],
      "metadata": {
        "id": "pZ7MCEoSY3g2"
      }
    },
    {
      "cell_type": "markdown",
      "source": [
        "### Describe\n",
        "The DataFrame pandas describe() method, we will return general information about our data such as the mean, std, min, max and percentiles"
      ],
      "metadata": {
        "id": "ZLHlXfIvZIIX"
      }
    },
    {
      "cell_type": "code",
      "source": [
        "boston_df.describe()"
      ],
      "metadata": {
        "colab": {
          "base_uri": "https://localhost:8080/",
          "height": 0
        },
        "id": "qBCBbedHZD9p",
        "outputId": "7d5846fd-f019-43af-9e12-51b5215604c9"
      },
      "execution_count": 7,
      "outputs": [
        {
          "output_type": "execute_result",
          "data": {
            "text/plain": [
              "             CRIM          ZN       INDUS        CHAS         NOX          RM  \\\n",
              "count  506.000000  506.000000  506.000000  506.000000  506.000000  506.000000   \n",
              "mean     3.613524   11.363636   11.136779    0.069170    0.554695    6.284634   \n",
              "std      8.601545   23.322453    6.860353    0.253994    0.115878    0.702617   \n",
              "min      0.006320    0.000000    0.460000    0.000000    0.385000    3.561000   \n",
              "25%      0.082045    0.000000    5.190000    0.000000    0.449000    5.885500   \n",
              "50%      0.256510    0.000000    9.690000    0.000000    0.538000    6.208500   \n",
              "75%      3.677083   12.500000   18.100000    0.000000    0.624000    6.623500   \n",
              "max     88.976200  100.000000   27.740000    1.000000    0.871000    8.780000   \n",
              "\n",
              "              AGE         DIS         RAD         TAX     PTRATIO           B  \\\n",
              "count  506.000000  506.000000  506.000000  506.000000  506.000000  506.000000   \n",
              "mean    68.574901    3.795043    9.549407  408.237154   18.455534  356.674032   \n",
              "std     28.148861    2.105710    8.707259  168.537116    2.164946   91.294864   \n",
              "min      2.900000    1.129600    1.000000  187.000000   12.600000    0.320000   \n",
              "25%     45.025000    2.100175    4.000000  279.000000   17.400000  375.377500   \n",
              "50%     77.500000    3.207450    5.000000  330.000000   19.050000  391.440000   \n",
              "75%     94.075000    5.188425   24.000000  666.000000   20.200000  396.225000   \n",
              "max    100.000000   12.126500   24.000000  711.000000   22.000000  396.900000   \n",
              "\n",
              "            LSTAT      Prices  \n",
              "count  506.000000  506.000000  \n",
              "mean    12.653063   22.532806  \n",
              "std      7.141062    9.197104  \n",
              "min      1.730000    5.000000  \n",
              "25%      6.950000   17.025000  \n",
              "50%     11.360000   21.200000  \n",
              "75%     16.955000   25.000000  \n",
              "max     37.970000   50.000000  "
            ],
            "text/html": [
              "\n",
              "  <div id=\"df-e479c9ac-e13c-4fae-9c95-bf3e029d08bc\">\n",
              "    <div class=\"colab-df-container\">\n",
              "      <div>\n",
              "<style scoped>\n",
              "    .dataframe tbody tr th:only-of-type {\n",
              "        vertical-align: middle;\n",
              "    }\n",
              "\n",
              "    .dataframe tbody tr th {\n",
              "        vertical-align: top;\n",
              "    }\n",
              "\n",
              "    .dataframe thead th {\n",
              "        text-align: right;\n",
              "    }\n",
              "</style>\n",
              "<table border=\"1\" class=\"dataframe\">\n",
              "  <thead>\n",
              "    <tr style=\"text-align: right;\">\n",
              "      <th></th>\n",
              "      <th>CRIM</th>\n",
              "      <th>ZN</th>\n",
              "      <th>INDUS</th>\n",
              "      <th>CHAS</th>\n",
              "      <th>NOX</th>\n",
              "      <th>RM</th>\n",
              "      <th>AGE</th>\n",
              "      <th>DIS</th>\n",
              "      <th>RAD</th>\n",
              "      <th>TAX</th>\n",
              "      <th>PTRATIO</th>\n",
              "      <th>B</th>\n",
              "      <th>LSTAT</th>\n",
              "      <th>Prices</th>\n",
              "    </tr>\n",
              "  </thead>\n",
              "  <tbody>\n",
              "    <tr>\n",
              "      <th>count</th>\n",
              "      <td>506.000000</td>\n",
              "      <td>506.000000</td>\n",
              "      <td>506.000000</td>\n",
              "      <td>506.000000</td>\n",
              "      <td>506.000000</td>\n",
              "      <td>506.000000</td>\n",
              "      <td>506.000000</td>\n",
              "      <td>506.000000</td>\n",
              "      <td>506.000000</td>\n",
              "      <td>506.000000</td>\n",
              "      <td>506.000000</td>\n",
              "      <td>506.000000</td>\n",
              "      <td>506.000000</td>\n",
              "      <td>506.000000</td>\n",
              "    </tr>\n",
              "    <tr>\n",
              "      <th>mean</th>\n",
              "      <td>3.613524</td>\n",
              "      <td>11.363636</td>\n",
              "      <td>11.136779</td>\n",
              "      <td>0.069170</td>\n",
              "      <td>0.554695</td>\n",
              "      <td>6.284634</td>\n",
              "      <td>68.574901</td>\n",
              "      <td>3.795043</td>\n",
              "      <td>9.549407</td>\n",
              "      <td>408.237154</td>\n",
              "      <td>18.455534</td>\n",
              "      <td>356.674032</td>\n",
              "      <td>12.653063</td>\n",
              "      <td>22.532806</td>\n",
              "    </tr>\n",
              "    <tr>\n",
              "      <th>std</th>\n",
              "      <td>8.601545</td>\n",
              "      <td>23.322453</td>\n",
              "      <td>6.860353</td>\n",
              "      <td>0.253994</td>\n",
              "      <td>0.115878</td>\n",
              "      <td>0.702617</td>\n",
              "      <td>28.148861</td>\n",
              "      <td>2.105710</td>\n",
              "      <td>8.707259</td>\n",
              "      <td>168.537116</td>\n",
              "      <td>2.164946</td>\n",
              "      <td>91.294864</td>\n",
              "      <td>7.141062</td>\n",
              "      <td>9.197104</td>\n",
              "    </tr>\n",
              "    <tr>\n",
              "      <th>min</th>\n",
              "      <td>0.006320</td>\n",
              "      <td>0.000000</td>\n",
              "      <td>0.460000</td>\n",
              "      <td>0.000000</td>\n",
              "      <td>0.385000</td>\n",
              "      <td>3.561000</td>\n",
              "      <td>2.900000</td>\n",
              "      <td>1.129600</td>\n",
              "      <td>1.000000</td>\n",
              "      <td>187.000000</td>\n",
              "      <td>12.600000</td>\n",
              "      <td>0.320000</td>\n",
              "      <td>1.730000</td>\n",
              "      <td>5.000000</td>\n",
              "    </tr>\n",
              "    <tr>\n",
              "      <th>25%</th>\n",
              "      <td>0.082045</td>\n",
              "      <td>0.000000</td>\n",
              "      <td>5.190000</td>\n",
              "      <td>0.000000</td>\n",
              "      <td>0.449000</td>\n",
              "      <td>5.885500</td>\n",
              "      <td>45.025000</td>\n",
              "      <td>2.100175</td>\n",
              "      <td>4.000000</td>\n",
              "      <td>279.000000</td>\n",
              "      <td>17.400000</td>\n",
              "      <td>375.377500</td>\n",
              "      <td>6.950000</td>\n",
              "      <td>17.025000</td>\n",
              "    </tr>\n",
              "    <tr>\n",
              "      <th>50%</th>\n",
              "      <td>0.256510</td>\n",
              "      <td>0.000000</td>\n",
              "      <td>9.690000</td>\n",
              "      <td>0.000000</td>\n",
              "      <td>0.538000</td>\n",
              "      <td>6.208500</td>\n",
              "      <td>77.500000</td>\n",
              "      <td>3.207450</td>\n",
              "      <td>5.000000</td>\n",
              "      <td>330.000000</td>\n",
              "      <td>19.050000</td>\n",
              "      <td>391.440000</td>\n",
              "      <td>11.360000</td>\n",
              "      <td>21.200000</td>\n",
              "    </tr>\n",
              "    <tr>\n",
              "      <th>75%</th>\n",
              "      <td>3.677083</td>\n",
              "      <td>12.500000</td>\n",
              "      <td>18.100000</td>\n",
              "      <td>0.000000</td>\n",
              "      <td>0.624000</td>\n",
              "      <td>6.623500</td>\n",
              "      <td>94.075000</td>\n",
              "      <td>5.188425</td>\n",
              "      <td>24.000000</td>\n",
              "      <td>666.000000</td>\n",
              "      <td>20.200000</td>\n",
              "      <td>396.225000</td>\n",
              "      <td>16.955000</td>\n",
              "      <td>25.000000</td>\n",
              "    </tr>\n",
              "    <tr>\n",
              "      <th>max</th>\n",
              "      <td>88.976200</td>\n",
              "      <td>100.000000</td>\n",
              "      <td>27.740000</td>\n",
              "      <td>1.000000</td>\n",
              "      <td>0.871000</td>\n",
              "      <td>8.780000</td>\n",
              "      <td>100.000000</td>\n",
              "      <td>12.126500</td>\n",
              "      <td>24.000000</td>\n",
              "      <td>711.000000</td>\n",
              "      <td>22.000000</td>\n",
              "      <td>396.900000</td>\n",
              "      <td>37.970000</td>\n",
              "      <td>50.000000</td>\n",
              "    </tr>\n",
              "  </tbody>\n",
              "</table>\n",
              "</div>\n",
              "      <button class=\"colab-df-convert\" onclick=\"convertToInteractive('df-e479c9ac-e13c-4fae-9c95-bf3e029d08bc')\"\n",
              "              title=\"Convert this dataframe to an interactive table.\"\n",
              "              style=\"display:none;\">\n",
              "        \n",
              "  <svg xmlns=\"http://www.w3.org/2000/svg\" height=\"24px\"viewBox=\"0 0 24 24\"\n",
              "       width=\"24px\">\n",
              "    <path d=\"M0 0h24v24H0V0z\" fill=\"none\"/>\n",
              "    <path d=\"M18.56 5.44l.94 2.06.94-2.06 2.06-.94-2.06-.94-.94-2.06-.94 2.06-2.06.94zm-11 1L8.5 8.5l.94-2.06 2.06-.94-2.06-.94L8.5 2.5l-.94 2.06-2.06.94zm10 10l.94 2.06.94-2.06 2.06-.94-2.06-.94-.94-2.06-.94 2.06-2.06.94z\"/><path d=\"M17.41 7.96l-1.37-1.37c-.4-.4-.92-.59-1.43-.59-.52 0-1.04.2-1.43.59L10.3 9.45l-7.72 7.72c-.78.78-.78 2.05 0 2.83L4 21.41c.39.39.9.59 1.41.59.51 0 1.02-.2 1.41-.59l7.78-7.78 2.81-2.81c.8-.78.8-2.07 0-2.86zM5.41 20L4 18.59l7.72-7.72 1.47 1.35L5.41 20z\"/>\n",
              "  </svg>\n",
              "      </button>\n",
              "      \n",
              "  <style>\n",
              "    .colab-df-container {\n",
              "      display:flex;\n",
              "      flex-wrap:wrap;\n",
              "      gap: 12px;\n",
              "    }\n",
              "\n",
              "    .colab-df-convert {\n",
              "      background-color: #E8F0FE;\n",
              "      border: none;\n",
              "      border-radius: 50%;\n",
              "      cursor: pointer;\n",
              "      display: none;\n",
              "      fill: #1967D2;\n",
              "      height: 32px;\n",
              "      padding: 0 0 0 0;\n",
              "      width: 32px;\n",
              "    }\n",
              "\n",
              "    .colab-df-convert:hover {\n",
              "      background-color: #E2EBFA;\n",
              "      box-shadow: 0px 1px 2px rgba(60, 64, 67, 0.3), 0px 1px 3px 1px rgba(60, 64, 67, 0.15);\n",
              "      fill: #174EA6;\n",
              "    }\n",
              "\n",
              "    [theme=dark] .colab-df-convert {\n",
              "      background-color: #3B4455;\n",
              "      fill: #D2E3FC;\n",
              "    }\n",
              "\n",
              "    [theme=dark] .colab-df-convert:hover {\n",
              "      background-color: #434B5C;\n",
              "      box-shadow: 0px 1px 3px 1px rgba(0, 0, 0, 0.15);\n",
              "      filter: drop-shadow(0px 1px 2px rgba(0, 0, 0, 0.3));\n",
              "      fill: #FFFFFF;\n",
              "    }\n",
              "  </style>\n",
              "\n",
              "      <script>\n",
              "        const buttonEl =\n",
              "          document.querySelector('#df-e479c9ac-e13c-4fae-9c95-bf3e029d08bc button.colab-df-convert');\n",
              "        buttonEl.style.display =\n",
              "          google.colab.kernel.accessAllowed ? 'block' : 'none';\n",
              "\n",
              "        async function convertToInteractive(key) {\n",
              "          const element = document.querySelector('#df-e479c9ac-e13c-4fae-9c95-bf3e029d08bc');\n",
              "          const dataTable =\n",
              "            await google.colab.kernel.invokeFunction('convertToInteractive',\n",
              "                                                     [key], {});\n",
              "          if (!dataTable) return;\n",
              "\n",
              "          const docLinkHtml = 'Like what you see? Visit the ' +\n",
              "            '<a target=\"_blank\" href=https://colab.research.google.com/notebooks/data_table.ipynb>data table notebook</a>'\n",
              "            + ' to learn more about interactive tables.';\n",
              "          element.innerHTML = '';\n",
              "          dataTable['output_type'] = 'display_data';\n",
              "          await google.colab.output.renderOutput(dataTable, element);\n",
              "          const docLink = document.createElement('div');\n",
              "          docLink.innerHTML = docLinkHtml;\n",
              "          element.appendChild(docLink);\n",
              "        }\n",
              "      </script>\n",
              "    </div>\n",
              "  </div>\n",
              "  "
            ]
          },
          "metadata": {},
          "execution_count": 7
        }
      ]
    },
    {
      "cell_type": "markdown",
      "source": [
        "### Data correlation\n",
        "Through the corr() method of Dataframe pandas and the seaborn library charts we will check how the resources are related to each other"
      ],
      "metadata": {
        "id": "6niqyKV8agzW"
      }
    },
    {
      "cell_type": "code",
      "source": [
        "boston_corr = boston_df.drop('Prices', axis=1).corr()\n",
        "sbn.clustermap(boston_corr)"
      ],
      "metadata": {
        "colab": {
          "base_uri": "https://localhost:8080/",
          "height": 0
        },
        "id": "xE0InL9waoy3",
        "outputId": "56b0cdd1-dfa3-4975-d06e-eff539c84ce2"
      },
      "execution_count": 8,
      "outputs": [
        {
          "output_type": "execute_result",
          "data": {
            "text/plain": [
              "<seaborn.matrix.ClusterGrid at 0x7f8beb8f6c90>"
            ]
          },
          "metadata": {},
          "execution_count": 8
        },
        {
          "output_type": "display_data",
          "data": {
            "text/plain": [
              "<Figure size 720x720 with 4 Axes>"
            ],
            "image/png": "[encoded data removed]"
          },
          "metadata": {
            "needs_background": "light"
          }
        }
      ]
    },
    {
      "cell_type": "markdown",
      "source": [
        "### Graphical analysis\n",
        "The next analysis to be carried out will be through the use of the type of BoxPlot graph that we will tell with the scale of the features, the presence of outliers and markings such as the mean and percentiles."
      ],
      "metadata": {
        "id": "LMTkUB-MekOj"
      }
    },
    {
      "cell_type": "code",
      "source": [
        "def plot_boxplot(figure, column, line, data, column_name, \n",
        "                 width=0.6, height=0.8):\n",
        "    figure.add_axes((column, line, 0.6, 0.8))\n",
        "    plt.ylabel(column_name)\n",
        "    plt.boxplot(data, widths=0.8)"
      ],
      "metadata": {
        "id": "vuKsywFOhDV5"
      },
      "execution_count": 9,
      "outputs": []
    },
    {
      "cell_type": "code",
      "source": [
        "f = plt.figure(figsize=(4, 4))\n",
        "\n",
        "i = 0\n",
        "j = 0\n",
        "for feature in boston_df.drop('Prices', axis=1):\n",
        "    plot_boxplot(f, i, j, boston_df[feature], feature, width=0.8)\n",
        "    i += 1\n",
        "    if i == 7:\n",
        "        i = 0\n",
        "        j += 1"
      ],
      "metadata": {
        "colab": {
          "base_uri": "https://localhost:8080/",
          "height": 0
        },
        "id": "dJ6obVAWhD2n",
        "outputId": "476dcedb-e1d0-47c6-9997-30b5626e744e"
      },
      "execution_count": 10,
      "outputs": [
        {
          "output_type": "display_data",
          "data": {
            "text/plain": [
              "<Figure size 288x288 with 13 Axes>"
            ],
            "image/png": "[encoded data removed]"
          },
          "metadata": {
            "needs_background": "light"
          }
        }
      ]
    },
    {
      "cell_type": "markdown",
      "source": [
        "### Checking the outliers\n",
        "The function below can calculate the percentage of outliers present for the informed feature"
      ],
      "metadata": {
        "id": "WXaDWNdPeoJw"
      }
    },
    {
      "cell_type": "code",
      "source": [
        "def calc_outliers(data):\n",
        "    q1 = data.quantile(0.25)\n",
        "    q3 = data.quantile(0.75)\n",
        "\n",
        "    # interquartile range\n",
        "    iqr = q3 - q1\n",
        "\n",
        "    # upper interquartile range\n",
        "    uiqr = q3 + (iqr * 1.5)\n",
        "    # lower interquartile range\n",
        "    liqr = q1 - (iqr * 1.5)\n",
        "\n",
        "    number_outliers = sum((data <= liqr) | (data >= uiqr))\n",
        "    perc_outliers = (number_outliers / len(data)) * 100\n",
        "\n",
        "    return round(perc_outliers, 2)"
      ],
      "metadata": {
        "id": "8NwASTnpiEIt"
      },
      "execution_count": 11,
      "outputs": []
    },
    {
      "cell_type": "code",
      "source": [
        "outliers_analyse = list()\n",
        "for feature in boston_df.drop('Prices', axis=1):\n",
        "    perc_outliers_data = calc_outliers(boston_df[feature])\n",
        "\n",
        "    outliers_analyse.append(perc_outliers_data)"
      ],
      "metadata": {
        "id": "Hxlu8zUViGLe"
      },
      "execution_count": 12,
      "outputs": []
    },
    {
      "cell_type": "code",
      "source": [
        "outliers_analyse = pd.DataFrame(outliers_analyse, \n",
        "                                index=boston_data.feature_names,\n",
        "                                columns=['Outliers %'])\n",
        "outliers_analyse"
      ],
      "metadata": {
        "colab": {
          "base_uri": "https://localhost:8080/",
          "height": 0
        },
        "id": "8QBpMJSCiUza",
        "outputId": "cd8e4146-28d4-4274-ff4c-b61a12179f57"
      },
      "execution_count": 13,
      "outputs": [
        {
          "output_type": "execute_result",
          "data": {
            "text/plain": [
              "         Outliers %\n",
              "CRIM          13.04\n",
              "ZN            13.44\n",
              "INDUS          0.00\n",
              "CHAS         100.00\n",
              "NOX            0.00\n",
              "RM             5.93\n",
              "AGE            0.00\n",
              "DIS            0.99\n",
              "RAD            0.00\n",
              "TAX            0.00\n",
              "PTRATIO        2.96\n",
              "B             15.22\n",
              "LSTAT          1.38"
            ],
            "text/html": [
              "\n",
              "  <div id=\"df-4677029a-4f0f-4bab-8016-0d6534cbbbb5\">\n",
              "    <div class=\"colab-df-container\">\n",
              "      <div>\n",
              "<style scoped>\n",
              "    .dataframe tbody tr th:only-of-type {\n",
              "        vertical-align: middle;\n",
              "    }\n",
              "\n",
              "    .dataframe tbody tr th {\n",
              "        vertical-align: top;\n",
              "    }\n",
              "\n",
              "    .dataframe thead th {\n",
              "        text-align: right;\n",
              "    }\n",
              "</style>\n",
              "<table border=\"1\" class=\"dataframe\">\n",
              "  <thead>\n",
              "    <tr style=\"text-align: right;\">\n",
              "      <th></th>\n",
              "      <th>Outliers %</th>\n",
              "    </tr>\n",
              "  </thead>\n",
              "  <tbody>\n",
              "    <tr>\n",
              "      <th>CRIM</th>\n",
              "      <td>13.04</td>\n",
              "    </tr>\n",
              "    <tr>\n",
              "      <th>ZN</th>\n",
              "      <td>13.44</td>\n",
              "    </tr>\n",
              "    <tr>\n",
              "      <th>INDUS</th>\n",
              "      <td>0.00</td>\n",
              "    </tr>\n",
              "    <tr>\n",
              "      <th>CHAS</th>\n",
              "      <td>100.00</td>\n",
              "    </tr>\n",
              "    <tr>\n",
              "      <th>NOX</th>\n",
              "      <td>0.00</td>\n",
              "    </tr>\n",
              "    <tr>\n",
              "      <th>RM</th>\n",
              "      <td>5.93</td>\n",
              "    </tr>\n",
              "    <tr>\n",
              "      <th>AGE</th>\n",
              "      <td>0.00</td>\n",
              "    </tr>\n",
              "    <tr>\n",
              "      <th>DIS</th>\n",
              "      <td>0.99</td>\n",
              "    </tr>\n",
              "    <tr>\n",
              "      <th>RAD</th>\n",
              "      <td>0.00</td>\n",
              "    </tr>\n",
              "    <tr>\n",
              "      <th>TAX</th>\n",
              "      <td>0.00</td>\n",
              "    </tr>\n",
              "    <tr>\n",
              "      <th>PTRATIO</th>\n",
              "      <td>2.96</td>\n",
              "    </tr>\n",
              "    <tr>\n",
              "      <th>B</th>\n",
              "      <td>15.22</td>\n",
              "    </tr>\n",
              "    <tr>\n",
              "      <th>LSTAT</th>\n",
              "      <td>1.38</td>\n",
              "    </tr>\n",
              "  </tbody>\n",
              "</table>\n",
              "</div>\n",
              "      <button class=\"colab-df-convert\" onclick=\"convertToInteractive('df-4677029a-4f0f-4bab-8016-0d6534cbbbb5')\"\n",
              "              title=\"Convert this dataframe to an interactive table.\"\n",
              "              style=\"display:none;\">\n",
              "        \n",
              "  <svg xmlns=\"http://www.w3.org/2000/svg\" height=\"24px\"viewBox=\"0 0 24 24\"\n",
              "       width=\"24px\">\n",
              "    <path d=\"M0 0h24v24H0V0z\" fill=\"none\"/>\n",
              "    <path d=\"M18.56 5.44l.94 2.06.94-2.06 2.06-.94-2.06-.94-.94-2.06-.94 2.06-2.06.94zm-11 1L8.5 8.5l.94-2.06 2.06-.94-2.06-.94L8.5 2.5l-.94 2.06-2.06.94zm10 10l.94 2.06.94-2.06 2.06-.94-2.06-.94-.94-2.06-.94 2.06-2.06.94z\"/><path d=\"M17.41 7.96l-1.37-1.37c-.4-.4-.92-.59-1.43-.59-.52 0-1.04.2-1.43.59L10.3 9.45l-7.72 7.72c-.78.78-.78 2.05 0 2.83L4 21.41c.39.39.9.59 1.41.59.51 0 1.02-.2 1.41-.59l7.78-7.78 2.81-2.81c.8-.78.8-2.07 0-2.86zM5.41 20L4 18.59l7.72-7.72 1.47 1.35L5.41 20z\"/>\n",
              "  </svg>\n",
              "      </button>\n",
              "      \n",
              "  <style>\n",
              "    .colab-df-container {\n",
              "      display:flex;\n",
              "      flex-wrap:wrap;\n",
              "      gap: 12px;\n",
              "    }\n",
              "\n",
              "    .colab-df-convert {\n",
              "      background-color: #E8F0FE;\n",
              "      border: none;\n",
              "      border-radius: 50%;\n",
              "      cursor: pointer;\n",
              "      display: none;\n",
              "      fill: #1967D2;\n",
              "      height: 32px;\n",
              "      padding: 0 0 0 0;\n",
              "      width: 32px;\n",
              "    }\n",
              "\n",
              "    .colab-df-convert:hover {\n",
              "      background-color: #E2EBFA;\n",
              "      box-shadow: 0px 1px 2px rgba(60, 64, 67, 0.3), 0px 1px 3px 1px rgba(60, 64, 67, 0.15);\n",
              "      fill: #174EA6;\n",
              "    }\n",
              "\n",
              "    [theme=dark] .colab-df-convert {\n",
              "      background-color: #3B4455;\n",
              "      fill: #D2E3FC;\n",
              "    }\n",
              "\n",
              "    [theme=dark] .colab-df-convert:hover {\n",
              "      background-color: #434B5C;\n",
              "      box-shadow: 0px 1px 3px 1px rgba(0, 0, 0, 0.15);\n",
              "      filter: drop-shadow(0px 1px 2px rgba(0, 0, 0, 0.3));\n",
              "      fill: #FFFFFF;\n",
              "    }\n",
              "  </style>\n",
              "\n",
              "      <script>\n",
              "        const buttonEl =\n",
              "          document.querySelector('#df-4677029a-4f0f-4bab-8016-0d6534cbbbb5 button.colab-df-convert');\n",
              "        buttonEl.style.display =\n",
              "          google.colab.kernel.accessAllowed ? 'block' : 'none';\n",
              "\n",
              "        async function convertToInteractive(key) {\n",
              "          const element = document.querySelector('#df-4677029a-4f0f-4bab-8016-0d6534cbbbb5');\n",
              "          const dataTable =\n",
              "            await google.colab.kernel.invokeFunction('convertToInteractive',\n",
              "                                                     [key], {});\n",
              "          if (!dataTable) return;\n",
              "\n",
              "          const docLinkHtml = 'Like what you see? Visit the ' +\n",
              "            '<a target=\"_blank\" href=https://colab.research.google.com/notebooks/data_table.ipynb>data table notebook</a>'\n",
              "            + ' to learn more about interactive tables.';\n",
              "          element.innerHTML = '';\n",
              "          dataTable['output_type'] = 'display_data';\n",
              "          await google.colab.output.renderOutput(dataTable, element);\n",
              "          const docLink = document.createElement('div');\n",
              "          docLink.innerHTML = docLinkHtml;\n",
              "          element.appendChild(docLink);\n",
              "        }\n",
              "      </script>\n",
              "    </div>\n",
              "  </div>\n",
              "  "
            ]
          },
          "metadata": {},
          "execution_count": 13
        }
      ]
    },
    {
      "cell_type": "markdown",
      "source": [
        "### Data distribution\n",
        "The next step will be to plot the distribution of the data"
      ],
      "metadata": {
        "id": "IlALMV4per2l"
      }
    },
    {
      "cell_type": "code",
      "source": [
        "def plot_hist(figure, feature_data, feature_name, line, column, \n",
        "              width=0.8, height=0.8):\n",
        "    figure.add_axes((line, column, width, height))\n",
        "    plt.xlabel(feature_name)\n",
        "    plt.hist(feature_data)"
      ],
      "metadata": {
        "id": "kvyOgAg8jiY7"
      },
      "execution_count": 14,
      "outputs": []
    },
    {
      "cell_type": "code",
      "source": [
        "f = plt.figure(figsize=(4, 4))\n",
        "\n",
        "i = 0\n",
        "j = 0\n",
        "for feature in boston_df.drop('Prices', axis=1):\n",
        "    plot_hist(f, boston_df[feature], feature, i, j)\n",
        "\n",
        "    i += 1\n",
        "    if i == 7:\n",
        "        i = 0\n",
        "        j += 1"
      ],
      "metadata": {
        "colab": {
          "base_uri": "https://localhost:8080/",
          "height": 0
        },
        "id": "LPVWimCCipIm",
        "outputId": "50356af9-5180-4187-ac7b-9ddf3c23cee5"
      },
      "execution_count": 15,
      "outputs": [
        {
          "output_type": "display_data",
          "data": {
            "text/plain": [
              "<Figure size 288x288 with 13 Axes>"
            ],
            "image/png": "[encoded data removed]"
          },
          "metadata": {
            "needs_background": "light"
          }
        }
      ]
    },
    {
      "cell_type": "markdown",
      "source": [
        "## Data Split\n",
        "In this step, we will split our dataset into training and testing subsets"
      ],
      "metadata": {
        "id": "XIHtNfjMHIQH"
      }
    },
    {
      "cell_type": "code",
      "source": [
        "X_train, X_test, Y_train, Y_test = train_test_split(\n",
        "    boston_df.drop('Prices', axis=1),\n",
        "    boston_df['Prices'], \n",
        "    test_size=0.2,\n",
        "    random_state=701\n",
        ")"
      ],
      "metadata": {
        "id": "n7JErBB5HMs3"
      },
      "execution_count": 16,
      "outputs": []
    },
    {
      "cell_type": "markdown",
      "source": [
        "## Data Normalization\n",
        "For this dataset, we will use Quantile Normalization to eliminate outliers and scale features"
      ],
      "metadata": {
        "id": "bHEsB0YET8gC"
      }
    },
    {
      "cell_type": "code",
      "source": [
        "qt = QuantileTransformer()\n",
        "X_train_normalized = pd.DataFrame(qt.fit_transform(X_train, Y_train))\n",
        "X_train_normalized.columns = X_train.columns"
      ],
      "metadata": {
        "id": "2IlWMf-GUDMr",
        "colab": {
          "base_uri": "https://localhost:8080/"
        },
        "outputId": "0e70a4c1-0ff9-454e-8517-ee4838ae05d8"
      },
      "execution_count": 17,
      "outputs": [
        {
          "output_type": "stream",
          "name": "stderr",
          "text": [
            "/usr/local/lib/python3.7/dist-packages/sklearn/preprocessing/_data.py:2593: UserWarning: n_quantiles (1000) is greater than the total number of samples (404). n_quantiles is set to n_samples.\n",
            "  \"n_samples.\" % (self.n_quantiles, n_samples)\n"
          ]
        }
      ]
    },
    {
      "cell_type": "code",
      "source": [
        "boston_df_normalized = X_train_normalized.copy()\n",
        "boston_df_normalized['Prices'] = Y_train\n",
        "boston_df_normalized"
      ],
      "metadata": {
        "colab": {
          "base_uri": "https://localhost:8080/",
          "height": 424
        },
        "id": "oQOoTlmTGaVN",
        "outputId": "8144a1f1-418a-4d39-d752-fa9322551749"
      },
      "execution_count": 18,
      "outputs": [
        {
          "output_type": "execute_result",
          "data": {
            "text/plain": [
              "         CRIM        ZN     INDUS  CHAS       NOX        RM       AGE  \\\n",
              "0    0.406948  0.000000  0.574442   0.0  0.081886  0.316377  0.048387   \n",
              "1    0.947891  0.000000  0.756824   0.0  0.812655  0.526055  1.000000   \n",
              "2    0.042184  0.921836  0.102978   0.0  0.027295  0.826303  0.019851   \n",
              "3    0.014888  1.000000  0.014888   0.0  0.068238  0.828784  0.210918   \n",
              "4    0.942928  0.000000  0.756824   0.0  0.812655  0.729529  0.905707   \n",
              "..        ...       ...       ...   ...       ...       ...       ...   \n",
              "399  0.183623  0.000000  0.590571   0.0  0.171216  0.535980  0.310174   \n",
              "400  0.751861  0.000000  0.756824   0.0  0.629032  0.575682  0.290323   \n",
              "401  0.476427  0.000000  0.555831   1.0  0.342432  0.196030  0.312655   \n",
              "402  0.200993  0.000000  0.255583   0.0  0.434243  0.327543  0.349876   \n",
              "403  0.811414  0.000000  0.756824   0.0  0.629032  0.429280  0.523573   \n",
              "\n",
              "          DIS       RAD       TAX   PTRATIO         B     LSTAT  Prices  \n",
              "0    0.760546  0.277916  0.374690  0.555831  0.267990  0.411911    24.0  \n",
              "1    0.031017  1.000000  0.858561  0.758065  0.588089  0.888337    21.6  \n",
              "2    0.834988  0.000000  0.177419  0.140199  0.564516  0.114144     NaN  \n",
              "3    0.962779  0.502481  0.151365  0.106700  0.538462  0.058313    33.4  \n",
              "4    0.066998  1.000000  0.858561  0.758065  1.000000  0.873449    36.2  \n",
              "..        ...       ...       ...       ...       ...       ...     ...  \n",
              "399  0.732010  0.502481  0.593052  0.478908  0.362283  0.531017     NaN  \n",
              "400  0.615385  1.000000  0.858561  0.758065  0.399504  0.456576     5.6  \n",
              "401  0.560794  0.277916  0.235732  0.450372  0.460298  0.704715     7.2  \n",
              "402  0.724566  0.502481  0.073201  0.758065  1.000000  0.364764     NaN  \n",
              "403  0.543424  1.000000  0.858561  0.758065  0.518610  0.672457     8.3  \n",
              "\n",
              "[404 rows x 14 columns]"
            ],
            "text/html": [
              "\n",
              "  <div id=\"df-74f0bf71-64a3-4894-827e-b5c3c1f6bdc6\">\n",
              "    <div class=\"colab-df-container\">\n",
              "      <div>\n",
              "<style scoped>\n",
              "    .dataframe tbody tr th:only-of-type {\n",
              "        vertical-align: middle;\n",
              "    }\n",
              "\n",
              "    .dataframe tbody tr th {\n",
              "        vertical-align: top;\n",
              "    }\n",
              "\n",
              "    .dataframe thead th {\n",
              "        text-align: right;\n",
              "    }\n",
              "</style>\n",
              "<table border=\"1\" class=\"dataframe\">\n",
              "  <thead>\n",
              "    <tr style=\"text-align: right;\">\n",
              "      <th></th>\n",
              "      <th>CRIM</th>\n",
              "      <th>ZN</th>\n",
              "      <th>INDUS</th>\n",
              "      <th>CHAS</th>\n",
              "      <th>NOX</th>\n",
              "      <th>RM</th>\n",
              "      <th>AGE</th>\n",
              "      <th>DIS</th>\n",
              "      <th>RAD</th>\n",
              "      <th>TAX</th>\n",
              "      <th>PTRATIO</th>\n",
              "      <th>B</th>\n",
              "      <th>LSTAT</th>\n",
              "      <th>Prices</th>\n",
              "    </tr>\n",
              "  </thead>\n",
              "  <tbody>\n",
              "    <tr>\n",
              "      <th>0</th>\n",
              "      <td>0.406948</td>\n",
              "      <td>0.000000</td>\n",
              "      <td>0.574442</td>\n",
              "      <td>0.0</td>\n",
              "      <td>0.081886</td>\n",
              "      <td>0.316377</td>\n",
              "      <td>0.048387</td>\n",
              "      <td>0.760546</td>\n",
              "      <td>0.277916</td>\n",
              "      <td>0.374690</td>\n",
              "      <td>0.555831</td>\n",
              "      <td>0.267990</td>\n",
              "      <td>0.411911</td>\n",
              "      <td>24.0</td>\n",
              "    </tr>\n",
              "    <tr>\n",
              "      <th>1</th>\n",
              "      <td>0.947891</td>\n",
              "      <td>0.000000</td>\n",
              "      <td>0.756824</td>\n",
              "      <td>0.0</td>\n",
              "      <td>0.812655</td>\n",
              "      <td>0.526055</td>\n",
              "      <td>1.000000</td>\n",
              "      <td>0.031017</td>\n",
              "      <td>1.000000</td>\n",
              "      <td>0.858561</td>\n",
              "      <td>0.758065</td>\n",
              "      <td>0.588089</td>\n",
              "      <td>0.888337</td>\n",
              "      <td>21.6</td>\n",
              "    </tr>\n",
              "    <tr>\n",
              "      <th>2</th>\n",
              "      <td>0.042184</td>\n",
              "      <td>0.921836</td>\n",
              "      <td>0.102978</td>\n",
              "      <td>0.0</td>\n",
              "      <td>0.027295</td>\n",
              "      <td>0.826303</td>\n",
              "      <td>0.019851</td>\n",
              "      <td>0.834988</td>\n",
              "      <td>0.000000</td>\n",
              "      <td>0.177419</td>\n",
              "      <td>0.140199</td>\n",
              "      <td>0.564516</td>\n",
              "      <td>0.114144</td>\n",
              "      <td>NaN</td>\n",
              "    </tr>\n",
              "    <tr>\n",
              "      <th>3</th>\n",
              "      <td>0.014888</td>\n",
              "      <td>1.000000</td>\n",
              "      <td>0.014888</td>\n",
              "      <td>0.0</td>\n",
              "      <td>0.068238</td>\n",
              "      <td>0.828784</td>\n",
              "      <td>0.210918</td>\n",
              "      <td>0.962779</td>\n",
              "      <td>0.502481</td>\n",
              "      <td>0.151365</td>\n",
              "      <td>0.106700</td>\n",
              "      <td>0.538462</td>\n",
              "      <td>0.058313</td>\n",
              "      <td>33.4</td>\n",
              "    </tr>\n",
              "    <tr>\n",
              "      <th>4</th>\n",
              "      <td>0.942928</td>\n",
              "      <td>0.000000</td>\n",
              "      <td>0.756824</td>\n",
              "      <td>0.0</td>\n",
              "      <td>0.812655</td>\n",
              "      <td>0.729529</td>\n",
              "      <td>0.905707</td>\n",
              "      <td>0.066998</td>\n",
              "      <td>1.000000</td>\n",
              "      <td>0.858561</td>\n",
              "      <td>0.758065</td>\n",
              "      <td>1.000000</td>\n",
              "      <td>0.873449</td>\n",
              "      <td>36.2</td>\n",
              "    </tr>\n",
              "    <tr>\n",
              "      <th>...</th>\n",
              "      <td>...</td>\n",
              "      <td>...</td>\n",
              "      <td>...</td>\n",
              "      <td>...</td>\n",
              "      <td>...</td>\n",
              "      <td>...</td>\n",
              "      <td>...</td>\n",
              "      <td>...</td>\n",
              "      <td>...</td>\n",
              "      <td>...</td>\n",
              "      <td>...</td>\n",
              "      <td>...</td>\n",
              "      <td>...</td>\n",
              "      <td>...</td>\n",
              "    </tr>\n",
              "    <tr>\n",
              "      <th>399</th>\n",
              "      <td>0.183623</td>\n",
              "      <td>0.000000</td>\n",
              "      <td>0.590571</td>\n",
              "      <td>0.0</td>\n",
              "      <td>0.171216</td>\n",
              "      <td>0.535980</td>\n",
              "      <td>0.310174</td>\n",
              "      <td>0.732010</td>\n",
              "      <td>0.502481</td>\n",
              "      <td>0.593052</td>\n",
              "      <td>0.478908</td>\n",
              "      <td>0.362283</td>\n",
              "      <td>0.531017</td>\n",
              "      <td>NaN</td>\n",
              "    </tr>\n",
              "    <tr>\n",
              "      <th>400</th>\n",
              "      <td>0.751861</td>\n",
              "      <td>0.000000</td>\n",
              "      <td>0.756824</td>\n",
              "      <td>0.0</td>\n",
              "      <td>0.629032</td>\n",
              "      <td>0.575682</td>\n",
              "      <td>0.290323</td>\n",
              "      <td>0.615385</td>\n",
              "      <td>1.000000</td>\n",
              "      <td>0.858561</td>\n",
              "      <td>0.758065</td>\n",
              "      <td>0.399504</td>\n",
              "      <td>0.456576</td>\n",
              "      <td>5.6</td>\n",
              "    </tr>\n",
              "    <tr>\n",
              "      <th>401</th>\n",
              "      <td>0.476427</td>\n",
              "      <td>0.000000</td>\n",
              "      <td>0.555831</td>\n",
              "      <td>1.0</td>\n",
              "      <td>0.342432</td>\n",
              "      <td>0.196030</td>\n",
              "      <td>0.312655</td>\n",
              "      <td>0.560794</td>\n",
              "      <td>0.277916</td>\n",
              "      <td>0.235732</td>\n",
              "      <td>0.450372</td>\n",
              "      <td>0.460298</td>\n",
              "      <td>0.704715</td>\n",
              "      <td>7.2</td>\n",
              "    </tr>\n",
              "    <tr>\n",
              "      <th>402</th>\n",
              "      <td>0.200993</td>\n",
              "      <td>0.000000</td>\n",
              "      <td>0.255583</td>\n",
              "      <td>0.0</td>\n",
              "      <td>0.434243</td>\n",
              "      <td>0.327543</td>\n",
              "      <td>0.349876</td>\n",
              "      <td>0.724566</td>\n",
              "      <td>0.502481</td>\n",
              "      <td>0.073201</td>\n",
              "      <td>0.758065</td>\n",
              "      <td>1.000000</td>\n",
              "      <td>0.364764</td>\n",
              "      <td>NaN</td>\n",
              "    </tr>\n",
              "    <tr>\n",
              "      <th>403</th>\n",
              "      <td>0.811414</td>\n",
              "      <td>0.000000</td>\n",
              "      <td>0.756824</td>\n",
              "      <td>0.0</td>\n",
              "      <td>0.629032</td>\n",
              "      <td>0.429280</td>\n",
              "      <td>0.523573</td>\n",
              "      <td>0.543424</td>\n",
              "      <td>1.000000</td>\n",
              "      <td>0.858561</td>\n",
              "      <td>0.758065</td>\n",
              "      <td>0.518610</td>\n",
              "      <td>0.672457</td>\n",
              "      <td>8.3</td>\n",
              "    </tr>\n",
              "  </tbody>\n",
              "</table>\n",
              "<p>404 rows × 14 columns</p>\n",
              "</div>\n",
              "      <button class=\"colab-df-convert\" onclick=\"convertToInteractive('df-74f0bf71-64a3-4894-827e-b5c3c1f6bdc6')\"\n",
              "              title=\"Convert this dataframe to an interactive table.\"\n",
              "              style=\"display:none;\">\n",
              "        \n",
              "  <svg xmlns=\"http://www.w3.org/2000/svg\" height=\"24px\"viewBox=\"0 0 24 24\"\n",
              "       width=\"24px\">\n",
              "    <path d=\"M0 0h24v24H0V0z\" fill=\"none\"/>\n",
              "    <path d=\"M18.56 5.44l.94 2.06.94-2.06 2.06-.94-2.06-.94-.94-2.06-.94 2.06-2.06.94zm-11 1L8.5 8.5l.94-2.06 2.06-.94-2.06-.94L8.5 2.5l-.94 2.06-2.06.94zm10 10l.94 2.06.94-2.06 2.06-.94-2.06-.94-.94-2.06-.94 2.06-2.06.94z\"/><path d=\"M17.41 7.96l-1.37-1.37c-.4-.4-.92-.59-1.43-.59-.52 0-1.04.2-1.43.59L10.3 9.45l-7.72 7.72c-.78.78-.78 2.05 0 2.83L4 21.41c.39.39.9.59 1.41.59.51 0 1.02-.2 1.41-.59l7.78-7.78 2.81-2.81c.8-.78.8-2.07 0-2.86zM5.41 20L4 18.59l7.72-7.72 1.47 1.35L5.41 20z\"/>\n",
              "  </svg>\n",
              "      </button>\n",
              "      \n",
              "  <style>\n",
              "    .colab-df-container {\n",
              "      display:flex;\n",
              "      flex-wrap:wrap;\n",
              "      gap: 12px;\n",
              "    }\n",
              "\n",
              "    .colab-df-convert {\n",
              "      background-color: #E8F0FE;\n",
              "      border: none;\n",
              "      border-radius: 50%;\n",
              "      cursor: pointer;\n",
              "      display: none;\n",
              "      fill: #1967D2;\n",
              "      height: 32px;\n",
              "      padding: 0 0 0 0;\n",
              "      width: 32px;\n",
              "    }\n",
              "\n",
              "    .colab-df-convert:hover {\n",
              "      background-color: #E2EBFA;\n",
              "      box-shadow: 0px 1px 2px rgba(60, 64, 67, 0.3), 0px 1px 3px 1px rgba(60, 64, 67, 0.15);\n",
              "      fill: #174EA6;\n",
              "    }\n",
              "\n",
              "    [theme=dark] .colab-df-convert {\n",
              "      background-color: #3B4455;\n",
              "      fill: #D2E3FC;\n",
              "    }\n",
              "\n",
              "    [theme=dark] .colab-df-convert:hover {\n",
              "      background-color: #434B5C;\n",
              "      box-shadow: 0px 1px 3px 1px rgba(0, 0, 0, 0.15);\n",
              "      filter: drop-shadow(0px 1px 2px rgba(0, 0, 0, 0.3));\n",
              "      fill: #FFFFFF;\n",
              "    }\n",
              "  </style>\n",
              "\n",
              "      <script>\n",
              "        const buttonEl =\n",
              "          document.querySelector('#df-74f0bf71-64a3-4894-827e-b5c3c1f6bdc6 button.colab-df-convert');\n",
              "        buttonEl.style.display =\n",
              "          google.colab.kernel.accessAllowed ? 'block' : 'none';\n",
              "\n",
              "        async function convertToInteractive(key) {\n",
              "          const element = document.querySelector('#df-74f0bf71-64a3-4894-827e-b5c3c1f6bdc6');\n",
              "          const dataTable =\n",
              "            await google.colab.kernel.invokeFunction('convertToInteractive',\n",
              "                                                     [key], {});\n",
              "          if (!dataTable) return;\n",
              "\n",
              "          const docLinkHtml = 'Like what you see? Visit the ' +\n",
              "            '<a target=\"_blank\" href=https://colab.research.google.com/notebooks/data_table.ipynb>data table notebook</a>'\n",
              "            + ' to learn more about interactive tables.';\n",
              "          element.innerHTML = '';\n",
              "          dataTable['output_type'] = 'display_data';\n",
              "          await google.colab.output.renderOutput(dataTable, element);\n",
              "          const docLink = document.createElement('div');\n",
              "          docLink.innerHTML = docLinkHtml;\n",
              "          element.appendChild(docLink);\n",
              "        }\n",
              "      </script>\n",
              "    </div>\n",
              "  </div>\n",
              "  "
            ]
          },
          "metadata": {},
          "execution_count": 18
        }
      ]
    },
    {
      "cell_type": "markdown",
      "source": [
        "## Data analysis\n",
        "Now, let's compare the raw data with the normalized data to see how the scaling and distribution of the data occurred."
      ],
      "metadata": {
        "id": "w96jnxm0aBA7"
      }
    },
    {
      "cell_type": "markdown",
      "source": [
        "### Describe\n",
        "Looking at the general information about the two datasets, we see that the features of the normalized dataset have been re-scaled and now have similar information, such as mean, std and the percentiles."
      ],
      "metadata": {
        "id": "CV0sfFRRJM0u"
      }
    },
    {
      "cell_type": "code",
      "source": [
        "boston_df.describe()"
      ],
      "metadata": {
        "colab": {
          "base_uri": "https://localhost:8080/",
          "height": 0
        },
        "id": "KgG7wJboaDZM",
        "outputId": "53bcd34c-2c40-4730-c5c3-839213ffa737"
      },
      "execution_count": 19,
      "outputs": [
        {
          "output_type": "execute_result",
          "data": {
            "text/plain": [
              "             CRIM          ZN       INDUS        CHAS         NOX          RM  \\\n",
              "count  506.000000  506.000000  506.000000  506.000000  506.000000  506.000000   \n",
              "mean     3.613524   11.363636   11.136779    0.069170    0.554695    6.284634   \n",
              "std      8.601545   23.322453    6.860353    0.253994    0.115878    0.702617   \n",
              "min      0.006320    0.000000    0.460000    0.000000    0.385000    3.561000   \n",
              "25%      0.082045    0.000000    5.190000    0.000000    0.449000    5.885500   \n",
              "50%      0.256510    0.000000    9.690000    0.000000    0.538000    6.208500   \n",
              "75%      3.677083   12.500000   18.100000    0.000000    0.624000    6.623500   \n",
              "max     88.976200  100.000000   27.740000    1.000000    0.871000    8.780000   \n",
              "\n",
              "              AGE         DIS         RAD         TAX     PTRATIO           B  \\\n",
              "count  506.000000  506.000000  506.000000  506.000000  506.000000  506.000000   \n",
              "mean    68.574901    3.795043    9.549407  408.237154   18.455534  356.674032   \n",
              "std     28.148861    2.105710    8.707259  168.537116    2.164946   91.294864   \n",
              "min      2.900000    1.129600    1.000000  187.000000   12.600000    0.320000   \n",
              "25%     45.025000    2.100175    4.000000  279.000000   17.400000  375.377500   \n",
              "50%     77.500000    3.207450    5.000000  330.000000   19.050000  391.440000   \n",
              "75%     94.075000    5.188425   24.000000  666.000000   20.200000  396.225000   \n",
              "max    100.000000   12.126500   24.000000  711.000000   22.000000  396.900000   \n",
              "\n",
              "            LSTAT      Prices  \n",
              "count  506.000000  506.000000  \n",
              "mean    12.653063   22.532806  \n",
              "std      7.141062    9.197104  \n",
              "min      1.730000    5.000000  \n",
              "25%      6.950000   17.025000  \n",
              "50%     11.360000   21.200000  \n",
              "75%     16.955000   25.000000  \n",
              "max     37.970000   50.000000  "
            ],
            "text/html": [
              "\n",
              "  <div id=\"df-46c92f2e-7056-4812-ad52-eecd1c9df449\">\n",
              "    <div class=\"colab-df-container\">\n",
              "      <div>\n",
              "<style scoped>\n",
              "    .dataframe tbody tr th:only-of-type {\n",
              "        vertical-align: middle;\n",
              "    }\n",
              "\n",
              "    .dataframe tbody tr th {\n",
              "        vertical-align: top;\n",
              "    }\n",
              "\n",
              "    .dataframe thead th {\n",
              "        text-align: right;\n",
              "    }\n",
              "</style>\n",
              "<table border=\"1\" class=\"dataframe\">\n",
              "  <thead>\n",
              "    <tr style=\"text-align: right;\">\n",
              "      <th></th>\n",
              "      <th>CRIM</th>\n",
              "      <th>ZN</th>\n",
              "      <th>INDUS</th>\n",
              "      <th>CHAS</th>\n",
              "      <th>NOX</th>\n",
              "      <th>RM</th>\n",
              "      <th>AGE</th>\n",
              "      <th>DIS</th>\n",
              "      <th>RAD</th>\n",
              "      <th>TAX</th>\n",
              "      <th>PTRATIO</th>\n",
              "      <th>B</th>\n",
              "      <th>LSTAT</th>\n",
              "      <th>Prices</th>\n",
              "    </tr>\n",
              "  </thead>\n",
              "  <tbody>\n",
              "    <tr>\n",
              "      <th>count</th>\n",
              "      <td>506.000000</td>\n",
              "      <td>506.000000</td>\n",
              "      <td>506.000000</td>\n",
              "      <td>506.000000</td>\n",
              "      <td>506.000000</td>\n",
              "      <td>506.000000</td>\n",
              "      <td>506.000000</td>\n",
              "      <td>506.000000</td>\n",
              "      <td>506.000000</td>\n",
              "      <td>506.000000</td>\n",
              "      <td>506.000000</td>\n",
              "      <td>506.000000</td>\n",
              "      <td>506.000000</td>\n",
              "      <td>506.000000</td>\n",
              "    </tr>\n",
              "    <tr>\n",
              "      <th>mean</th>\n",
              "      <td>3.613524</td>\n",
              "      <td>11.363636</td>\n",
              "      <td>11.136779</td>\n",
              "      <td>0.069170</td>\n",
              "      <td>0.554695</td>\n",
              "      <td>6.284634</td>\n",
              "      <td>68.574901</td>\n",
              "      <td>3.795043</td>\n",
              "      <td>9.549407</td>\n",
              "      <td>408.237154</td>\n",
              "      <td>18.455534</td>\n",
              "      <td>356.674032</td>\n",
              "      <td>12.653063</td>\n",
              "      <td>22.532806</td>\n",
              "    </tr>\n",
              "    <tr>\n",
              "      <th>std</th>\n",
              "      <td>8.601545</td>\n",
              "      <td>23.322453</td>\n",
              "      <td>6.860353</td>\n",
              "      <td>0.253994</td>\n",
              "      <td>0.115878</td>\n",
              "      <td>0.702617</td>\n",
              "      <td>28.148861</td>\n",
              "      <td>2.105710</td>\n",
              "      <td>8.707259</td>\n",
              "      <td>168.537116</td>\n",
              "      <td>2.164946</td>\n",
              "      <td>91.294864</td>\n",
              "      <td>7.141062</td>\n",
              "      <td>9.197104</td>\n",
              "    </tr>\n",
              "    <tr>\n",
              "      <th>min</th>\n",
              "      <td>0.006320</td>\n",
              "      <td>0.000000</td>\n",
              "      <td>0.460000</td>\n",
              "      <td>0.000000</td>\n",
              "      <td>0.385000</td>\n",
              "      <td>3.561000</td>\n",
              "      <td>2.900000</td>\n",
              "      <td>1.129600</td>\n",
              "      <td>1.000000</td>\n",
              "      <td>187.000000</td>\n",
              "      <td>12.600000</td>\n",
              "      <td>0.320000</td>\n",
              "      <td>1.730000</td>\n",
              "      <td>5.000000</td>\n",
              "    </tr>\n",
              "    <tr>\n",
              "      <th>25%</th>\n",
              "      <td>0.082045</td>\n",
              "      <td>0.000000</td>\n",
              "      <td>5.190000</td>\n",
              "      <td>0.000000</td>\n",
              "      <td>0.449000</td>\n",
              "      <td>5.885500</td>\n",
              "      <td>45.025000</td>\n",
              "      <td>2.100175</td>\n",
              "      <td>4.000000</td>\n",
              "      <td>279.000000</td>\n",
              "      <td>17.400000</td>\n",
              "      <td>375.377500</td>\n",
              "      <td>6.950000</td>\n",
              "      <td>17.025000</td>\n",
              "    </tr>\n",
              "    <tr>\n",
              "      <th>50%</th>\n",
              "      <td>0.256510</td>\n",
              "      <td>0.000000</td>\n",
              "      <td>9.690000</td>\n",
              "      <td>0.000000</td>\n",
              "      <td>0.538000</td>\n",
              "      <td>6.208500</td>\n",
              "      <td>77.500000</td>\n",
              "      <td>3.207450</td>\n",
              "      <td>5.000000</td>\n",
              "      <td>330.000000</td>\n",
              "      <td>19.050000</td>\n",
              "      <td>391.440000</td>\n",
              "      <td>11.360000</td>\n",
              "      <td>21.200000</td>\n",
              "    </tr>\n",
              "    <tr>\n",
              "      <th>75%</th>\n",
              "      <td>3.677083</td>\n",
              "      <td>12.500000</td>\n",
              "      <td>18.100000</td>\n",
              "      <td>0.000000</td>\n",
              "      <td>0.624000</td>\n",
              "      <td>6.623500</td>\n",
              "      <td>94.075000</td>\n",
              "      <td>5.188425</td>\n",
              "      <td>24.000000</td>\n",
              "      <td>666.000000</td>\n",
              "      <td>20.200000</td>\n",
              "      <td>396.225000</td>\n",
              "      <td>16.955000</td>\n",
              "      <td>25.000000</td>\n",
              "    </tr>\n",
              "    <tr>\n",
              "      <th>max</th>\n",
              "      <td>88.976200</td>\n",
              "      <td>100.000000</td>\n",
              "      <td>27.740000</td>\n",
              "      <td>1.000000</td>\n",
              "      <td>0.871000</td>\n",
              "      <td>8.780000</td>\n",
              "      <td>100.000000</td>\n",
              "      <td>12.126500</td>\n",
              "      <td>24.000000</td>\n",
              "      <td>711.000000</td>\n",
              "      <td>22.000000</td>\n",
              "      <td>396.900000</td>\n",
              "      <td>37.970000</td>\n",
              "      <td>50.000000</td>\n",
              "    </tr>\n",
              "  </tbody>\n",
              "</table>\n",
              "</div>\n",
              "      <button class=\"colab-df-convert\" onclick=\"convertToInteractive('df-46c92f2e-7056-4812-ad52-eecd1c9df449')\"\n",
              "              title=\"Convert this dataframe to an interactive table.\"\n",
              "              style=\"display:none;\">\n",
              "        \n",
              "  <svg xmlns=\"http://www.w3.org/2000/svg\" height=\"24px\"viewBox=\"0 0 24 24\"\n",
              "       width=\"24px\">\n",
              "    <path d=\"M0 0h24v24H0V0z\" fill=\"none\"/>\n",
              "    <path d=\"M18.56 5.44l.94 2.06.94-2.06 2.06-.94-2.06-.94-.94-2.06-.94 2.06-2.06.94zm-11 1L8.5 8.5l.94-2.06 2.06-.94-2.06-.94L8.5 2.5l-.94 2.06-2.06.94zm10 10l.94 2.06.94-2.06 2.06-.94-2.06-.94-.94-2.06-.94 2.06-2.06.94z\"/><path d=\"M17.41 7.96l-1.37-1.37c-.4-.4-.92-.59-1.43-.59-.52 0-1.04.2-1.43.59L10.3 9.45l-7.72 7.72c-.78.78-.78 2.05 0 2.83L4 21.41c.39.39.9.59 1.41.59.51 0 1.02-.2 1.41-.59l7.78-7.78 2.81-2.81c.8-.78.8-2.07 0-2.86zM5.41 20L4 18.59l7.72-7.72 1.47 1.35L5.41 20z\"/>\n",
              "  </svg>\n",
              "      </button>\n",
              "      \n",
              "  <style>\n",
              "    .colab-df-container {\n",
              "      display:flex;\n",
              "      flex-wrap:wrap;\n",
              "      gap: 12px;\n",
              "    }\n",
              "\n",
              "    .colab-df-convert {\n",
              "      background-color: #E8F0FE;\n",
              "      border: none;\n",
              "      border-radius: 50%;\n",
              "      cursor: pointer;\n",
              "      display: none;\n",
              "      fill: #1967D2;\n",
              "      height: 32px;\n",
              "      padding: 0 0 0 0;\n",
              "      width: 32px;\n",
              "    }\n",
              "\n",
              "    .colab-df-convert:hover {\n",
              "      background-color: #E2EBFA;\n",
              "      box-shadow: 0px 1px 2px rgba(60, 64, 67, 0.3), 0px 1px 3px 1px rgba(60, 64, 67, 0.15);\n",
              "      fill: #174EA6;\n",
              "    }\n",
              "\n",
              "    [theme=dark] .colab-df-convert {\n",
              "      background-color: #3B4455;\n",
              "      fill: #D2E3FC;\n",
              "    }\n",
              "\n",
              "    [theme=dark] .colab-df-convert:hover {\n",
              "      background-color: #434B5C;\n",
              "      box-shadow: 0px 1px 3px 1px rgba(0, 0, 0, 0.15);\n",
              "      filter: drop-shadow(0px 1px 2px rgba(0, 0, 0, 0.3));\n",
              "      fill: #FFFFFF;\n",
              "    }\n",
              "  </style>\n",
              "\n",
              "      <script>\n",
              "        const buttonEl =\n",
              "          document.querySelector('#df-46c92f2e-7056-4812-ad52-eecd1c9df449 button.colab-df-convert');\n",
              "        buttonEl.style.display =\n",
              "          google.colab.kernel.accessAllowed ? 'block' : 'none';\n",
              "\n",
              "        async function convertToInteractive(key) {\n",
              "          const element = document.querySelector('#df-46c92f2e-7056-4812-ad52-eecd1c9df449');\n",
              "          const dataTable =\n",
              "            await google.colab.kernel.invokeFunction('convertToInteractive',\n",
              "                                                     [key], {});\n",
              "          if (!dataTable) return;\n",
              "\n",
              "          const docLinkHtml = 'Like what you see? Visit the ' +\n",
              "            '<a target=\"_blank\" href=https://colab.research.google.com/notebooks/data_table.ipynb>data table notebook</a>'\n",
              "            + ' to learn more about interactive tables.';\n",
              "          element.innerHTML = '';\n",
              "          dataTable['output_type'] = 'display_data';\n",
              "          await google.colab.output.renderOutput(dataTable, element);\n",
              "          const docLink = document.createElement('div');\n",
              "          docLink.innerHTML = docLinkHtml;\n",
              "          element.appendChild(docLink);\n",
              "        }\n",
              "      </script>\n",
              "    </div>\n",
              "  </div>\n",
              "  "
            ]
          },
          "metadata": {},
          "execution_count": 19
        }
      ]
    },
    {
      "cell_type": "code",
      "source": [
        "boston_df_normalized.describe()"
      ],
      "metadata": {
        "colab": {
          "base_uri": "https://localhost:8080/",
          "height": 0
        },
        "id": "cjP3-XAHHGUf",
        "outputId": "c9eb31c7-5e22-488b-a168-c57ab972f6c3"
      },
      "execution_count": 20,
      "outputs": [
        {
          "output_type": "execute_result",
          "data": {
            "text/plain": [
              "             CRIM          ZN       INDUS        CHAS         NOX          RM  \\\n",
              "count  404.000000  404.000000  404.000000  404.000000  404.000000  404.000000   \n",
              "mean     0.500000    0.231807    0.500123    0.076733    0.500350    0.500000   \n",
              "std      0.289749    0.386311    0.287334    0.266497    0.290360    0.289749   \n",
              "min      0.000000    0.000000    0.000000    0.000000    0.000000    0.000000   \n",
              "25%      0.250000    0.000000    0.255583    0.000000    0.248139    0.250000   \n",
              "50%      0.500000    0.000000    0.508685    0.000000    0.509926    0.500000   \n",
              "75%      0.750000    0.741935    0.756824    0.000000    0.743176    0.750000   \n",
              "max      1.000000    1.000000    1.000000    1.000000    1.000000    1.000000   \n",
              "\n",
              "              AGE         DIS         RAD         TAX     PTRATIO           B  \\\n",
              "count  404.000000  404.000000  404.000000  404.000000  404.000000  404.000000   \n",
              "mean     0.504109    0.500028    0.532799    0.499994    0.500018    0.531017   \n",
              "std      0.296306    0.289750    0.330812    0.287348    0.286523    0.330023   \n",
              "min      0.000000    0.000000    0.000000    0.000000    0.000000    0.000000   \n",
              "25%      0.250000    0.250000    0.277916    0.246898    0.261787    0.250000   \n",
              "50%      0.501241    0.500000    0.502481    0.495037    0.501241    0.500000   \n",
              "75%      0.750620    0.750000    1.000000    0.858561    0.758065    0.812035   \n",
              "max      1.000000    1.000000    1.000000    1.000000    1.000000    1.000000   \n",
              "\n",
              "            LSTAT      Prices  \n",
              "count  404.000000  321.000000  \n",
              "mean     0.500000   24.019315  \n",
              "std      0.289749    9.253901  \n",
              "min      0.000000    5.000000  \n",
              "25%      0.250000   18.700000  \n",
              "50%      0.500000   22.200000  \n",
              "75%      0.750000   27.500000  \n",
              "max      1.000000   50.000000  "
            ],
            "text/html": [
              "\n",
              "  <div id=\"df-62f66ba6-abcb-4576-be86-394d95323635\">\n",
              "    <div class=\"colab-df-container\">\n",
              "      <div>\n",
              "<style scoped>\n",
              "    .dataframe tbody tr th:only-of-type {\n",
              "        vertical-align: middle;\n",
              "    }\n",
              "\n",
              "    .dataframe tbody tr th {\n",
              "        vertical-align: top;\n",
              "    }\n",
              "\n",
              "    .dataframe thead th {\n",
              "        text-align: right;\n",
              "    }\n",
              "</style>\n",
              "<table border=\"1\" class=\"dataframe\">\n",
              "  <thead>\n",
              "    <tr style=\"text-align: right;\">\n",
              "      <th></th>\n",
              "      <th>CRIM</th>\n",
              "      <th>ZN</th>\n",
              "      <th>INDUS</th>\n",
              "      <th>CHAS</th>\n",
              "      <th>NOX</th>\n",
              "      <th>RM</th>\n",
              "      <th>AGE</th>\n",
              "      <th>DIS</th>\n",
              "      <th>RAD</th>\n",
              "      <th>TAX</th>\n",
              "      <th>PTRATIO</th>\n",
              "      <th>B</th>\n",
              "      <th>LSTAT</th>\n",
              "      <th>Prices</th>\n",
              "    </tr>\n",
              "  </thead>\n",
              "  <tbody>\n",
              "    <tr>\n",
              "      <th>count</th>\n",
              "      <td>404.000000</td>\n",
              "      <td>404.000000</td>\n",
              "      <td>404.000000</td>\n",
              "      <td>404.000000</td>\n",
              "      <td>404.000000</td>\n",
              "      <td>404.000000</td>\n",
              "      <td>404.000000</td>\n",
              "      <td>404.000000</td>\n",
              "      <td>404.000000</td>\n",
              "      <td>404.000000</td>\n",
              "      <td>404.000000</td>\n",
              "      <td>404.000000</td>\n",
              "      <td>404.000000</td>\n",
              "      <td>321.000000</td>\n",
              "    </tr>\n",
              "    <tr>\n",
              "      <th>mean</th>\n",
              "      <td>0.500000</td>\n",
              "      <td>0.231807</td>\n",
              "      <td>0.500123</td>\n",
              "      <td>0.076733</td>\n",
              "      <td>0.500350</td>\n",
              "      <td>0.500000</td>\n",
              "      <td>0.504109</td>\n",
              "      <td>0.500028</td>\n",
              "      <td>0.532799</td>\n",
              "      <td>0.499994</td>\n",
              "      <td>0.500018</td>\n",
              "      <td>0.531017</td>\n",
              "      <td>0.500000</td>\n",
              "      <td>24.019315</td>\n",
              "    </tr>\n",
              "    <tr>\n",
              "      <th>std</th>\n",
              "      <td>0.289749</td>\n",
              "      <td>0.386311</td>\n",
              "      <td>0.287334</td>\n",
              "      <td>0.266497</td>\n",
              "      <td>0.290360</td>\n",
              "      <td>0.289749</td>\n",
              "      <td>0.296306</td>\n",
              "      <td>0.289750</td>\n",
              "      <td>0.330812</td>\n",
              "      <td>0.287348</td>\n",
              "      <td>0.286523</td>\n",
              "      <td>0.330023</td>\n",
              "      <td>0.289749</td>\n",
              "      <td>9.253901</td>\n",
              "    </tr>\n",
              "    <tr>\n",
              "      <th>min</th>\n",
              "      <td>0.000000</td>\n",
              "      <td>0.000000</td>\n",
              "      <td>0.000000</td>\n",
              "      <td>0.000000</td>\n",
              "      <td>0.000000</td>\n",
              "      <td>0.000000</td>\n",
              "      <td>0.000000</td>\n",
              "      <td>0.000000</td>\n",
              "      <td>0.000000</td>\n",
              "      <td>0.000000</td>\n",
              "      <td>0.000000</td>\n",
              "      <td>0.000000</td>\n",
              "      <td>0.000000</td>\n",
              "      <td>5.000000</td>\n",
              "    </tr>\n",
              "    <tr>\n",
              "      <th>25%</th>\n",
              "      <td>0.250000</td>\n",
              "      <td>0.000000</td>\n",
              "      <td>0.255583</td>\n",
              "      <td>0.000000</td>\n",
              "      <td>0.248139</td>\n",
              "      <td>0.250000</td>\n",
              "      <td>0.250000</td>\n",
              "      <td>0.250000</td>\n",
              "      <td>0.277916</td>\n",
              "      <td>0.246898</td>\n",
              "      <td>0.261787</td>\n",
              "      <td>0.250000</td>\n",
              "      <td>0.250000</td>\n",
              "      <td>18.700000</td>\n",
              "    </tr>\n",
              "    <tr>\n",
              "      <th>50%</th>\n",
              "      <td>0.500000</td>\n",
              "      <td>0.000000</td>\n",
              "      <td>0.508685</td>\n",
              "      <td>0.000000</td>\n",
              "      <td>0.509926</td>\n",
              "      <td>0.500000</td>\n",
              "      <td>0.501241</td>\n",
              "      <td>0.500000</td>\n",
              "      <td>0.502481</td>\n",
              "      <td>0.495037</td>\n",
              "      <td>0.501241</td>\n",
              "      <td>0.500000</td>\n",
              "      <td>0.500000</td>\n",
              "      <td>22.200000</td>\n",
              "    </tr>\n",
              "    <tr>\n",
              "      <th>75%</th>\n",
              "      <td>0.750000</td>\n",
              "      <td>0.741935</td>\n",
              "      <td>0.756824</td>\n",
              "      <td>0.000000</td>\n",
              "      <td>0.743176</td>\n",
              "      <td>0.750000</td>\n",
              "      <td>0.750620</td>\n",
              "      <td>0.750000</td>\n",
              "      <td>1.000000</td>\n",
              "      <td>0.858561</td>\n",
              "      <td>0.758065</td>\n",
              "      <td>0.812035</td>\n",
              "      <td>0.750000</td>\n",
              "      <td>27.500000</td>\n",
              "    </tr>\n",
              "    <tr>\n",
              "      <th>max</th>\n",
              "      <td>1.000000</td>\n",
              "      <td>1.000000</td>\n",
              "      <td>1.000000</td>\n",
              "      <td>1.000000</td>\n",
              "      <td>1.000000</td>\n",
              "      <td>1.000000</td>\n",
              "      <td>1.000000</td>\n",
              "      <td>1.000000</td>\n",
              "      <td>1.000000</td>\n",
              "      <td>1.000000</td>\n",
              "      <td>1.000000</td>\n",
              "      <td>1.000000</td>\n",
              "      <td>1.000000</td>\n",
              "      <td>50.000000</td>\n",
              "    </tr>\n",
              "  </tbody>\n",
              "</table>\n",
              "</div>\n",
              "      <button class=\"colab-df-convert\" onclick=\"convertToInteractive('df-62f66ba6-abcb-4576-be86-394d95323635')\"\n",
              "              title=\"Convert this dataframe to an interactive table.\"\n",
              "              style=\"display:none;\">\n",
              "        \n",
              "  <svg xmlns=\"http://www.w3.org/2000/svg\" height=\"24px\"viewBox=\"0 0 24 24\"\n",
              "       width=\"24px\">\n",
              "    <path d=\"M0 0h24v24H0V0z\" fill=\"none\"/>\n",
              "    <path d=\"M18.56 5.44l.94 2.06.94-2.06 2.06-.94-2.06-.94-.94-2.06-.94 2.06-2.06.94zm-11 1L8.5 8.5l.94-2.06 2.06-.94-2.06-.94L8.5 2.5l-.94 2.06-2.06.94zm10 10l.94 2.06.94-2.06 2.06-.94-2.06-.94-.94-2.06-.94 2.06-2.06.94z\"/><path d=\"M17.41 7.96l-1.37-1.37c-.4-.4-.92-.59-1.43-.59-.52 0-1.04.2-1.43.59L10.3 9.45l-7.72 7.72c-.78.78-.78 2.05 0 2.83L4 21.41c.39.39.9.59 1.41.59.51 0 1.02-.2 1.41-.59l7.78-7.78 2.81-2.81c.8-.78.8-2.07 0-2.86zM5.41 20L4 18.59l7.72-7.72 1.47 1.35L5.41 20z\"/>\n",
              "  </svg>\n",
              "      </button>\n",
              "      \n",
              "  <style>\n",
              "    .colab-df-container {\n",
              "      display:flex;\n",
              "      flex-wrap:wrap;\n",
              "      gap: 12px;\n",
              "    }\n",
              "\n",
              "    .colab-df-convert {\n",
              "      background-color: #E8F0FE;\n",
              "      border: none;\n",
              "      border-radius: 50%;\n",
              "      cursor: pointer;\n",
              "      display: none;\n",
              "      fill: #1967D2;\n",
              "      height: 32px;\n",
              "      padding: 0 0 0 0;\n",
              "      width: 32px;\n",
              "    }\n",
              "\n",
              "    .colab-df-convert:hover {\n",
              "      background-color: #E2EBFA;\n",
              "      box-shadow: 0px 1px 2px rgba(60, 64, 67, 0.3), 0px 1px 3px 1px rgba(60, 64, 67, 0.15);\n",
              "      fill: #174EA6;\n",
              "    }\n",
              "\n",
              "    [theme=dark] .colab-df-convert {\n",
              "      background-color: #3B4455;\n",
              "      fill: #D2E3FC;\n",
              "    }\n",
              "\n",
              "    [theme=dark] .colab-df-convert:hover {\n",
              "      background-color: #434B5C;\n",
              "      box-shadow: 0px 1px 3px 1px rgba(0, 0, 0, 0.15);\n",
              "      filter: drop-shadow(0px 1px 2px rgba(0, 0, 0, 0.3));\n",
              "      fill: #FFFFFF;\n",
              "    }\n",
              "  </style>\n",
              "\n",
              "      <script>\n",
              "        const buttonEl =\n",
              "          document.querySelector('#df-62f66ba6-abcb-4576-be86-394d95323635 button.colab-df-convert');\n",
              "        buttonEl.style.display =\n",
              "          google.colab.kernel.accessAllowed ? 'block' : 'none';\n",
              "\n",
              "        async function convertToInteractive(key) {\n",
              "          const element = document.querySelector('#df-62f66ba6-abcb-4576-be86-394d95323635');\n",
              "          const dataTable =\n",
              "            await google.colab.kernel.invokeFunction('convertToInteractive',\n",
              "                                                     [key], {});\n",
              "          if (!dataTable) return;\n",
              "\n",
              "          const docLinkHtml = 'Like what you see? Visit the ' +\n",
              "            '<a target=\"_blank\" href=https://colab.research.google.com/notebooks/data_table.ipynb>data table notebook</a>'\n",
              "            + ' to learn more about interactive tables.';\n",
              "          element.innerHTML = '';\n",
              "          dataTable['output_type'] = 'display_data';\n",
              "          await google.colab.output.renderOutput(dataTable, element);\n",
              "          const docLink = document.createElement('div');\n",
              "          docLink.innerHTML = docLinkHtml;\n",
              "          element.appendChild(docLink);\n",
              "        }\n",
              "      </script>\n",
              "    </div>\n",
              "  </div>\n",
              "  "
            ]
          },
          "metadata": {},
          "execution_count": 20
        }
      ]
    },
    {
      "cell_type": "markdown",
      "source": [
        "### Data correlation\n",
        "Looking at the general information about the two datasets, we see that the features of the normalized dataset have been re-scaled and now have similar information, such as mean, std and the percentiles."
      ],
      "metadata": {
        "id": "wtTnmn51JRVh"
      }
    },
    {
      "cell_type": "code",
      "source": [
        "boston_corr = boston_df.drop('Prices', axis=1).corr()\n",
        "sbn.clustermap(boston_corr)"
      ],
      "metadata": {
        "colab": {
          "base_uri": "https://localhost:8080/",
          "height": 0
        },
        "id": "QDKQxqdia4DW",
        "outputId": "387c2024-4a52-4237-85f3-b60f4a1d5b52"
      },
      "execution_count": 21,
      "outputs": [
        {
          "output_type": "execute_result",
          "data": {
            "text/plain": [
              "<seaborn.matrix.ClusterGrid at 0x7f8be7efe950>"
            ]
          },
          "metadata": {},
          "execution_count": 21
        },
        {
          "output_type": "display_data",
          "data": {
            "text/plain": [
              "<Figure size 720x720 with 4 Axes>"
            ],
            "image/png": "[encoded data removed]"
          },
          "metadata": {
            "needs_background": "light"
          }
        }
      ]
    },
    {
      "cell_type": "code",
      "source": [
        "boston_normalized_corr = X_train_normalized.corr()\n",
        "sbn.clustermap(boston_normalized_corr)"
      ],
      "metadata": {
        "colab": {
          "base_uri": "https://localhost:8080/",
          "height": 0
        },
        "id": "uGZE3cj7HOYa",
        "outputId": "3ac56d37-2bf3-4a3d-93ee-7c265713c353"
      },
      "execution_count": 22,
      "outputs": [
        {
          "output_type": "execute_result",
          "data": {
            "text/plain": [
              "<seaborn.matrix.ClusterGrid at 0x7f8be7e96f90>"
            ]
          },
          "metadata": {},
          "execution_count": 22
        },
        {
          "output_type": "display_data",
          "data": {
            "text/plain": [
              "<Figure size 720x720 with 4 Axes>"
            ],
            "image/png": "[encoded data removed]"
          },
          "metadata": {
            "needs_background": "light"
          }
        }
      ]
    },
    {
      "cell_type": "markdown",
      "source": [
        "### Graphical analysis\n",
        "In this part we will plot boxplot plots to compare general information in the raw dataset and in the normalized dataset, such as the mean and the presence of outliers"
      ],
      "metadata": {
        "id": "ko8FQDdoJXJj"
      }
    },
    {
      "cell_type": "code",
      "source": [
        "f = plt.figure(1, figsize=(2, 4))\n",
        "\n",
        "i = 0\n",
        "for feature in X_train:\n",
        "    plot_boxplot(f, i, 0, X_train[feature], ('Raw ' + feature))\n",
        "    plot_boxplot(f, i, 1, X_train_normalized[feature], \n",
        "                 ('Normalized ' + feature))\n",
        "\n",
        "    i += 1"
      ],
      "metadata": {
        "id": "pbsG9ZtFyZhT",
        "colab": {
          "base_uri": "https://localhost:8080/",
          "height": 0
        },
        "outputId": "999186be-677c-41e2-b02e-82aa25a23cb9"
      },
      "execution_count": 23,
      "outputs": [
        {
          "output_type": "display_data",
          "data": {
            "text/plain": [
              "<Figure size 144x288 with 26 Axes>"
            ],
            "image/png": "[encoded data removed]"
          },
          "metadata": {
            "needs_background": "light"
          }
        }
      ]
    },
    {
      "cell_type": "markdown",
      "source": [
        "### Outliers\n",
        "In the code below we have the calculation of the percentage of outliers for both datasets, with it we can see that the normalization applied significantly reduced the number of outliers"
      ],
      "metadata": {
        "id": "SdC67KMVJfH6"
      }
    },
    {
      "cell_type": "code",
      "source": [
        "outliers_analyse = list()\n",
        "for feature in X_train:\n",
        "    perc_outliers_raw_data = calc_outliers(X_train[feature])\n",
        "    perc_outliers_normalized_data = calc_outliers(X_train_normalized[feature])\n",
        "\n",
        "    outliers_analyse.append([perc_outliers_raw_data,\n",
        "                             perc_outliers_normalized_data])"
      ],
      "metadata": {
        "id": "FxPjLwBSC85J"
      },
      "execution_count": 24,
      "outputs": []
    },
    {
      "cell_type": "code",
      "source": [
        "outliers_analyse = pd.DataFrame(outliers_analyse, \n",
        "                                index=boston_data.feature_names,\n",
        "                                columns=['Raw data %', 'Normalized data %'])\n",
        "outliers_analyse"
      ],
      "metadata": {
        "colab": {
          "base_uri": "https://localhost:8080/",
          "height": 0
        },
        "id": "a4t1EVWdIfnS",
        "outputId": "3b88727f-229d-4e2b-c7f6-0a6df155fef0"
      },
      "execution_count": 25,
      "outputs": [
        {
          "output_type": "execute_result",
          "data": {
            "text/plain": [
              "         Raw data %  Normalized data %\n",
              "CRIM          13.12                0.0\n",
              "ZN            14.11                0.0\n",
              "INDUS          0.00                0.0\n",
              "CHAS         100.00              100.0\n",
              "NOX            0.00                0.0\n",
              "RM             6.93                0.0\n",
              "AGE            0.00                0.0\n",
              "DIS            0.99                0.0\n",
              "RAD            0.00                0.0\n",
              "TAX            0.00                0.0\n",
              "PTRATIO        2.72                0.0\n",
              "B             15.84                0.0\n",
              "LSTAT          1.49                0.0"
            ],
            "text/html": [
              "\n",
              "  <div id=\"df-6a20d421-0269-495a-83f7-3394d3b7df67\">\n",
              "    <div class=\"colab-df-container\">\n",
              "      <div>\n",
              "<style scoped>\n",
              "    .dataframe tbody tr th:only-of-type {\n",
              "        vertical-align: middle;\n",
              "    }\n",
              "\n",
              "    .dataframe tbody tr th {\n",
              "        vertical-align: top;\n",
              "    }\n",
              "\n",
              "    .dataframe thead th {\n",
              "        text-align: right;\n",
              "    }\n",
              "</style>\n",
              "<table border=\"1\" class=\"dataframe\">\n",
              "  <thead>\n",
              "    <tr style=\"text-align: right;\">\n",
              "      <th></th>\n",
              "      <th>Raw data %</th>\n",
              "      <th>Normalized data %</th>\n",
              "    </tr>\n",
              "  </thead>\n",
              "  <tbody>\n",
              "    <tr>\n",
              "      <th>CRIM</th>\n",
              "      <td>13.12</td>\n",
              "      <td>0.0</td>\n",
              "    </tr>\n",
              "    <tr>\n",
              "      <th>ZN</th>\n",
              "      <td>14.11</td>\n",
              "      <td>0.0</td>\n",
              "    </tr>\n",
              "    <tr>\n",
              "      <th>INDUS</th>\n",
              "      <td>0.00</td>\n",
              "      <td>0.0</td>\n",
              "    </tr>\n",
              "    <tr>\n",
              "      <th>CHAS</th>\n",
              "      <td>100.00</td>\n",
              "      <td>100.0</td>\n",
              "    </tr>\n",
              "    <tr>\n",
              "      <th>NOX</th>\n",
              "      <td>0.00</td>\n",
              "      <td>0.0</td>\n",
              "    </tr>\n",
              "    <tr>\n",
              "      <th>RM</th>\n",
              "      <td>6.93</td>\n",
              "      <td>0.0</td>\n",
              "    </tr>\n",
              "    <tr>\n",
              "      <th>AGE</th>\n",
              "      <td>0.00</td>\n",
              "      <td>0.0</td>\n",
              "    </tr>\n",
              "    <tr>\n",
              "      <th>DIS</th>\n",
              "      <td>0.99</td>\n",
              "      <td>0.0</td>\n",
              "    </tr>\n",
              "    <tr>\n",
              "      <th>RAD</th>\n",
              "      <td>0.00</td>\n",
              "      <td>0.0</td>\n",
              "    </tr>\n",
              "    <tr>\n",
              "      <th>TAX</th>\n",
              "      <td>0.00</td>\n",
              "      <td>0.0</td>\n",
              "    </tr>\n",
              "    <tr>\n",
              "      <th>PTRATIO</th>\n",
              "      <td>2.72</td>\n",
              "      <td>0.0</td>\n",
              "    </tr>\n",
              "    <tr>\n",
              "      <th>B</th>\n",
              "      <td>15.84</td>\n",
              "      <td>0.0</td>\n",
              "    </tr>\n",
              "    <tr>\n",
              "      <th>LSTAT</th>\n",
              "      <td>1.49</td>\n",
              "      <td>0.0</td>\n",
              "    </tr>\n",
              "  </tbody>\n",
              "</table>\n",
              "</div>\n",
              "      <button class=\"colab-df-convert\" onclick=\"convertToInteractive('df-6a20d421-0269-495a-83f7-3394d3b7df67')\"\n",
              "              title=\"Convert this dataframe to an interactive table.\"\n",
              "              style=\"display:none;\">\n",
              "        \n",
              "  <svg xmlns=\"http://www.w3.org/2000/svg\" height=\"24px\"viewBox=\"0 0 24 24\"\n",
              "       width=\"24px\">\n",
              "    <path d=\"M0 0h24v24H0V0z\" fill=\"none\"/>\n",
              "    <path d=\"M18.56 5.44l.94 2.06.94-2.06 2.06-.94-2.06-.94-.94-2.06-.94 2.06-2.06.94zm-11 1L8.5 8.5l.94-2.06 2.06-.94-2.06-.94L8.5 2.5l-.94 2.06-2.06.94zm10 10l.94 2.06.94-2.06 2.06-.94-2.06-.94-.94-2.06-.94 2.06-2.06.94z\"/><path d=\"M17.41 7.96l-1.37-1.37c-.4-.4-.92-.59-1.43-.59-.52 0-1.04.2-1.43.59L10.3 9.45l-7.72 7.72c-.78.78-.78 2.05 0 2.83L4 21.41c.39.39.9.59 1.41.59.51 0 1.02-.2 1.41-.59l7.78-7.78 2.81-2.81c.8-.78.8-2.07 0-2.86zM5.41 20L4 18.59l7.72-7.72 1.47 1.35L5.41 20z\"/>\n",
              "  </svg>\n",
              "      </button>\n",
              "      \n",
              "  <style>\n",
              "    .colab-df-container {\n",
              "      display:flex;\n",
              "      flex-wrap:wrap;\n",
              "      gap: 12px;\n",
              "    }\n",
              "\n",
              "    .colab-df-convert {\n",
              "      background-color: #E8F0FE;\n",
              "      border: none;\n",
              "      border-radius: 50%;\n",
              "      cursor: pointer;\n",
              "      display: none;\n",
              "      fill: #1967D2;\n",
              "      height: 32px;\n",
              "      padding: 0 0 0 0;\n",
              "      width: 32px;\n",
              "    }\n",
              "\n",
              "    .colab-df-convert:hover {\n",
              "      background-color: #E2EBFA;\n",
              "      box-shadow: 0px 1px 2px rgba(60, 64, 67, 0.3), 0px 1px 3px 1px rgba(60, 64, 67, 0.15);\n",
              "      fill: #174EA6;\n",
              "    }\n",
              "\n",
              "    [theme=dark] .colab-df-convert {\n",
              "      background-color: #3B4455;\n",
              "      fill: #D2E3FC;\n",
              "    }\n",
              "\n",
              "    [theme=dark] .colab-df-convert:hover {\n",
              "      background-color: #434B5C;\n",
              "      box-shadow: 0px 1px 3px 1px rgba(0, 0, 0, 0.15);\n",
              "      filter: drop-shadow(0px 1px 2px rgba(0, 0, 0, 0.3));\n",
              "      fill: #FFFFFF;\n",
              "    }\n",
              "  </style>\n",
              "\n",
              "      <script>\n",
              "        const buttonEl =\n",
              "          document.querySelector('#df-6a20d421-0269-495a-83f7-3394d3b7df67 button.colab-df-convert');\n",
              "        buttonEl.style.display =\n",
              "          google.colab.kernel.accessAllowed ? 'block' : 'none';\n",
              "\n",
              "        async function convertToInteractive(key) {\n",
              "          const element = document.querySelector('#df-6a20d421-0269-495a-83f7-3394d3b7df67');\n",
              "          const dataTable =\n",
              "            await google.colab.kernel.invokeFunction('convertToInteractive',\n",
              "                                                     [key], {});\n",
              "          if (!dataTable) return;\n",
              "\n",
              "          const docLinkHtml = 'Like what you see? Visit the ' +\n",
              "            '<a target=\"_blank\" href=https://colab.research.google.com/notebooks/data_table.ipynb>data table notebook</a>'\n",
              "            + ' to learn more about interactive tables.';\n",
              "          element.innerHTML = '';\n",
              "          dataTable['output_type'] = 'display_data';\n",
              "          await google.colab.output.renderOutput(dataTable, element);\n",
              "          const docLink = document.createElement('div');\n",
              "          docLink.innerHTML = docLinkHtml;\n",
              "          element.appendChild(docLink);\n",
              "        }\n",
              "      </script>\n",
              "    </div>\n",
              "  </div>\n",
              "  "
            ]
          },
          "metadata": {},
          "execution_count": 25
        }
      ]
    },
    {
      "cell_type": "markdown",
      "source": [
        "### Data distribution\n",
        "When analyzing the histograms below, we have a clear change compared to before and after we apply the normalization techniques"
      ],
      "metadata": {
        "id": "YVflvoGMk_p4"
      }
    },
    {
      "cell_type": "code",
      "source": [
        "f = plt.figure(figsize=(4, 4))\n",
        "\n",
        "i = 0\n",
        "for feature in X_train:\n",
        "    plot_hist(f, X_train[feature], 'Raw ' + feature, i, 0)\n",
        "    plot_hist(f, X_train_normalized[feature], 'Normalized ' + feature, i, 1)\n",
        "    i += 1"
      ],
      "metadata": {
        "id": "S0Zs6NzFlE0y",
        "colab": {
          "base_uri": "https://localhost:8080/",
          "height": 0
        },
        "outputId": "f537ac46-21cc-4b60-8ab4-f026af352e4d"
      },
      "execution_count": 26,
      "outputs": [
        {
          "output_type": "display_data",
          "data": {
            "text/plain": [
              "<Figure size 288x288 with 26 Axes>"
            ],
            "image/png": "[encoded data removed]"
          },
          "metadata": {
            "needs_background": "light"
          }
        }
      ]
    },
    {
      "cell_type": "markdown",
      "source": [
        "### Target data\n",
        "Plotting the target data"
      ],
      "metadata": {
        "id": "nGDk1yoKk8JO"
      }
    },
    {
      "cell_type": "code",
      "source": [
        "f = plt.figure(2, figsize=(16, 8))\n",
        "plt.ylabel('Prices')\n",
        "plt.xlabel('Samples')\n",
        "plt.plot(np.array(Y_train))"
      ],
      "metadata": {
        "id": "o-tl4-I1vha9",
        "colab": {
          "base_uri": "https://localhost:8080/",
          "height": 0
        },
        "outputId": "526f2b7c-56c0-4902-d49e-93a4c03d077e"
      },
      "execution_count": 27,
      "outputs": [
        {
          "output_type": "execute_result",
          "data": {
            "text/plain": [
              "[<matplotlib.lines.Line2D at 0x7f8be8a37e10>]"
            ]
          },
          "metadata": {},
          "execution_count": 27
        },
        {
          "output_type": "display_data",
          "data": {
            "text/plain": [
              "<Figure size 1152x576 with 1 Axes>"
            ],
            "image/png": "[encoded data removed]"
          },
          "metadata": {
            "needs_background": "light"
          }
        }
      ]
    },
    {
      "cell_type": "markdown",
      "source": [
        "## Data Decomposition (PCA)\n",
        "In this section we will discover the Principal Components of our features, with the objective of finding the minimum number of features that explain the maximum variance of the data."
      ],
      "metadata": {
        "id": "EmmMIjpZ5XHi"
      }
    },
    {
      "cell_type": "markdown",
      "source": [
        "We will set the number of features that the PCA class must find as 5"
      ],
      "metadata": {
        "id": "EZ4LU2ZWHhCS"
      }
    },
    {
      "cell_type": "code",
      "source": [
        "pca = PCA(n_components=5)"
      ],
      "metadata": {
        "id": "AGJv2L4o6gj3"
      },
      "execution_count": 28,
      "outputs": []
    },
    {
      "cell_type": "code",
      "source": [
        "pca.fit(X_train_normalized, Y_train)"
      ],
      "metadata": {
        "colab": {
          "base_uri": "https://localhost:8080/"
        },
        "id": "uVPqO9Xg6tbr",
        "outputId": "8af9e8ce-35ea-4831-8bcf-c69736915aa9"
      },
      "execution_count": 29,
      "outputs": [
        {
          "output_type": "execute_result",
          "data": {
            "text/plain": [
              "PCA(n_components=5)"
            ]
          },
          "metadata": {},
          "execution_count": 29
        }
      ]
    },
    {
      "cell_type": "markdown",
      "source": [
        "As you can see in the code output below, a single feature can explain more than 50% of the variance in our data."
      ],
      "metadata": {
        "id": "tJAsnz12Hu28"
      }
    },
    {
      "cell_type": "code",
      "source": [
        "pca.explained_variance_ratio_"
      ],
      "metadata": {
        "colab": {
          "base_uri": "https://localhost:8080/"
        },
        "id": "ttHKzpk67nCN",
        "outputId": "403bb804-6275-4791-e693-f781bab4a81c"
      },
      "execution_count": 30,
      "outputs": [
        {
          "output_type": "execute_result",
          "data": {
            "text/plain": [
              "array([0.50571662, 0.10622904, 0.08236141, 0.07395262, 0.05938244])"
            ]
          },
          "metadata": {},
          "execution_count": 30
        }
      ]
    },
    {
      "cell_type": "markdown",
      "source": [
        "Plotting a graph with the accumulated variation by number of features, we see that 5 features can explain almost 90% of the variance of our dataset. We are not going to get more features to reduce the risk of overfitting when we train our model"
      ],
      "metadata": {
        "id": "2F21LggrIXZt"
      }
    },
    {
      "cell_type": "code",
      "source": [
        "plt.plot(range(1, 6),\n",
        "         pca.explained_variance_ratio_.cumsum() * 100,\n",
        "         'k--')\n",
        "plt.grid()"
      ],
      "metadata": {
        "colab": {
          "base_uri": "https://localhost:8080/",
          "height": 0
        },
        "id": "ovDQ4_0-71n9",
        "outputId": "65b2e842-a099-4219-a4a3-6a310f059587"
      },
      "execution_count": 31,
      "outputs": [
        {
          "output_type": "display_data",
          "data": {
            "text/plain": [
              "<Figure size 432x288 with 1 Axes>"
            ],
            "image/png": "[encoded data removed]"
          },
          "metadata": {
            "needs_background": "light"
          }
        }
      ]
    },
    {
      "cell_type": "markdown",
      "source": [
        "Through the transform() method we can select the features chosen for our PCA fitting"
      ],
      "metadata": {
        "id": "C_mu1dd4JdkE"
      }
    },
    {
      "cell_type": "code",
      "source": [
        "pca.transform(X_train_normalized)"
      ],
      "metadata": {
        "colab": {
          "base_uri": "https://localhost:8080/"
        },
        "id": "WEtW3dTn7IT-",
        "outputId": "eba497c9-3261-47b2-ca82-e781df189327"
      },
      "execution_count": 32,
      "outputs": [
        {
          "output_type": "execute_result",
          "data": {
            "text/plain": [
              "array([[ 0.34623339,  0.2030321 , -0.0175997 , -0.55575648, -0.29897548],\n",
              "       [-1.11500587, -0.10537899, -0.15601622,  0.3203042 ,  0.0437975 ],\n",
              "       [ 1.44371411, -0.17646073,  0.02007895, -0.09624793,  0.08454114],\n",
              "       ...,\n",
              "       [ 0.06305698,  0.32243105,  0.59332869, -0.25198537,  0.27463221],\n",
              "       [ 0.38841774,  0.58705574, -0.12619234,  0.14988425, -0.29029068],\n",
              "       [-0.66231461, -0.12076435, -0.32712502,  0.07767639, -0.18359483]])"
            ]
          },
          "metadata": {},
          "execution_count": 32
        }
      ]
    },
    {
      "cell_type": "markdown",
      "source": [
        "## Model selection\n",
        "During model selection, we will test our dataset with a variety of combinations of models and parameters to discover the best combination to predict our dataset."
      ],
      "metadata": {
        "id": "kiggCHUlOqaf"
      }
    },
    {
      "cell_type": "code",
      "source": [
        "pipeline = Pipeline(steps=[\n",
        "    ('regressor', GradientBoostingRegressor())\n",
        "])"
      ],
      "metadata": {
        "id": "2rc75AIkcMq2"
      },
      "execution_count": 33,
      "outputs": []
    },
    {
      "cell_type": "markdown",
      "source": [
        "We will test four different types of models in our dataset, 2 being gradient descent based models and 2 decision tree based models."
      ],
      "metadata": {
        "id": "jMiDFqHn6XqJ"
      }
    },
    {
      "cell_type": "code",
      "source": [
        "param_grid = [\n",
        "    {\n",
        "        'regressor': [GradientBoostingRegressor()], \n",
        "        'regressor__learning_rate': [lr / 100 for lr in range(1, 21)], \n",
        "        'regressor__n_estimators': [n for n in range(50, 310, 10)]\n",
        "    }, {\n",
        "        'regressor': [AdaBoostRegressor()],\n",
        "        'regressor__n_estimators': [n for n in range(10, 110, 10)], \n",
        "        'regressor__learning_rate': [lr / 10 for lr in range(1, 21)]\n",
        "    }, {\n",
        "        'regressor': [RandomForestRegressor()],\n",
        "        'regressor__n_estimators': [n for n in range(50, 310, 10)],\n",
        "        'regressor__max_depth': [max for max in range(1, 7)]\n",
        "    }, {\n",
        "        'regressor': [ExtraTreesRegressor()],\n",
        "        'regressor__n_estimators': [n for n in range(50, 310, 10)],\n",
        "        'regressor__max_depth': [max for max in range(1, 7)]\n",
        "    }\n",
        "]"
      ],
      "metadata": {
        "id": "srk5KA2Q4Ldf"
      },
      "execution_count": 34,
      "outputs": []
    },
    {
      "cell_type": "markdown",
      "source": [
        "We will use GridSearchCV to perform the search for the combination of parameters in an exhaustive way, testing all possible combinations. The scoring type chosen for this selection was the Root Mean Squared Error (RMSE) and we set the cross-validation (CV) number to 4"
      ],
      "metadata": {
        "id": "HJrpNkoJ7KKP"
      }
    },
    {
      "cell_type": "code",
      "source": [
        "grid_search = GridSearchCV(pipeline, \n",
        "                           param_grid, \n",
        "                           scoring='neg_root_mean_squared_error',\n",
        "                           cv=4)"
      ],
      "metadata": {
        "id": "prvKUMQI4Fjk"
      },
      "execution_count": 35,
      "outputs": []
    },
    {
      "cell_type": "code",
      "source": [
        "grid_search.fit(pca.transform(X_train_normalized), Y_train)"
      ],
      "metadata": {
        "id": "ECy8nbI55TzR",
        "colab": {
          "base_uri": "https://localhost:8080/"
        },
        "outputId": "146ff17a-b2cc-4cb1-dbcb-6a2553768ed9"
      },
      "execution_count": 36,
      "outputs": [
        {
          "output_type": "execute_result",
          "data": {
            "text/plain": [
              "GridSearchCV(cv=4,\n",
              "             estimator=Pipeline(steps=[('regressor',\n",
              "                                        GradientBoostingRegressor())]),\n",
              "             param_grid=[{'regressor': [GradientBoostingRegressor()],\n",
              "                          'regressor__learning_rate': [0.01, 0.02, 0.03, 0.04,\n",
              "                                                       0.05, 0.06, 0.07, 0.08,\n",
              "                                                       0.09, 0.1, 0.11, 0.12,\n",
              "                                                       0.13, 0.14, 0.15, 0.16,\n",
              "                                                       0.17, 0.18, 0.19, 0.2],\n",
              "                          'regressor__n_estimators': [50, 60, 70, 80, 90, 100,\n",
              "                                                      110, 120, 130, 140, 150,\n",
              "                                                      160, 170, 180, 19...\n",
              "                          'regressor__n_estimators': [50, 60, 70, 80, 90, 100,\n",
              "                                                      110, 120, 130, 140, 150,\n",
              "                                                      160, 170, 180, 190, 200,\n",
              "                                                      210, 220, 230, 240, 250,\n",
              "                                                      260, 270, 280, 290,\n",
              "                                                      300]},\n",
              "                         {'regressor': [ExtraTreesRegressor()],\n",
              "                          'regressor__max_depth': [1, 2, 3, 4, 5, 6],\n",
              "                          'regressor__n_estimators': [50, 60, 70, 80, 90, 100,\n",
              "                                                      110, 120, 130, 140, 150,\n",
              "                                                      160, 170, 180, 190, 200,\n",
              "                                                      210, 220, 230, 240, 250,\n",
              "                                                      260, 270, 280, 290,\n",
              "                                                      300]}],\n",
              "             scoring='neg_root_mean_squared_error')"
            ]
          },
          "metadata": {},
          "execution_count": 36
        }
      ]
    },
    {
      "cell_type": "markdown",
      "source": [
        "The best_params_ attribute will return us the combination of the best model and parameters that GridSearchCV finds"
      ],
      "metadata": {
        "id": "yj2Ly6w79Sfy"
      }
    },
    {
      "cell_type": "code",
      "source": [
        "grid_search.best_params_"
      ],
      "metadata": {
        "colab": {
          "base_uri": "https://localhost:8080/"
        },
        "id": "ESGoVTfY5dgR",
        "outputId": "8b49c426-c22f-4e9b-9f86-95db693a4965"
      },
      "execution_count": 37,
      "outputs": [
        {
          "output_type": "execute_result",
          "data": {
            "text/plain": [
              "{'regressor': RandomForestRegressor(max_depth=6, n_estimators=50),\n",
              " 'regressor__max_depth': 6,\n",
              " 'regressor__n_estimators': 50}"
            ]
          },
          "metadata": {},
          "execution_count": 37
        }
      ]
    },
    {
      "cell_type": "markdown",
      "source": [
        "Showing all combinations sorted by test score ranking"
      ],
      "metadata": {
        "id": "3XiiW-HcNEC8"
      }
    },
    {
      "cell_type": "code",
      "source": [
        "cv_results = pd.DataFrame(grid_search.cv_results_)\n",
        "cv_results.sort_values('rank_test_score')"
      ],
      "metadata": {
        "colab": {
          "base_uri": "https://localhost:8080/",
          "height": 0
        },
        "id": "tJ6yXmdaEnxf",
        "outputId": "424ef3dd-c110-4d37-da19-fbd778e088bb"
      },
      "execution_count": 38,
      "outputs": [
        {
          "output_type": "execute_result",
          "data": {
            "text/plain": [
              "     mean_fit_time  std_fit_time  mean_score_time  std_score_time  \\\n",
              "850       0.081493      0.003980         0.005037        0.000050   \n",
              "873       0.451646      0.005164         0.024558        0.000495   \n",
              "859       0.225667      0.003403         0.013350        0.000566   \n",
              "865       0.318857      0.009266         0.017752        0.000398   \n",
              "855       0.161699      0.004314         0.009757        0.000742   \n",
              "..             ...           ...              ...             ...   \n",
              "893       0.159408      0.003699         0.017556        0.000156   \n",
              "897       0.191307      0.004808         0.025722        0.007581   \n",
              "898       0.192991      0.006993         0.022279        0.002316   \n",
              "881       0.072159      0.002539         0.009477        0.001019   \n",
              "882       0.077659      0.001533         0.010032        0.000507   \n",
              "\n",
              "                                       param_regressor  \\\n",
              "850  RandomForestRegressor(max_depth=6, n_estimator...   \n",
              "873  RandomForestRegressor(max_depth=6, n_estimator...   \n",
              "859  RandomForestRegressor(max_depth=6, n_estimator...   \n",
              "865  RandomForestRegressor(max_depth=6, n_estimator...   \n",
              "855  RandomForestRegressor(max_depth=6, n_estimator...   \n",
              "..                                                 ...   \n",
              "893                              ExtraTreesRegressor()   \n",
              "897                              ExtraTreesRegressor()   \n",
              "898                              ExtraTreesRegressor()   \n",
              "881                              ExtraTreesRegressor()   \n",
              "882                              ExtraTreesRegressor()   \n",
              "\n",
              "    param_regressor__learning_rate param_regressor__n_estimators  \\\n",
              "850                            NaN                            50   \n",
              "873                            NaN                           280   \n",
              "859                            NaN                           140   \n",
              "865                            NaN                           200   \n",
              "855                            NaN                           100   \n",
              "..                             ...                           ...   \n",
              "893                            NaN                           220   \n",
              "897                            NaN                           260   \n",
              "898                            NaN                           270   \n",
              "881                            NaN                           100   \n",
              "882                            NaN                           110   \n",
              "\n",
              "    param_regressor__max_depth  \\\n",
              "850                          6   \n",
              "873                          6   \n",
              "859                          6   \n",
              "865                          6   \n",
              "855                          6   \n",
              "..                         ...   \n",
              "893                          1   \n",
              "897                          1   \n",
              "898                          1   \n",
              "881                          1   \n",
              "882                          1   \n",
              "\n",
              "                                                params  split0_test_score  \\\n",
              "850  {'regressor': RandomForestRegressor(max_depth=...          -5.793554   \n",
              "873  {'regressor': RandomForestRegressor(max_depth=...          -5.892980   \n",
              "859  {'regressor': RandomForestRegressor(max_depth=...          -5.845487   \n",
              "865  {'regressor': RandomForestRegressor(max_depth=...          -5.747939   \n",
              "855  {'regressor': RandomForestRegressor(max_depth=...          -5.859064   \n",
              "..                                                 ...                ...   \n",
              "893  {'regressor': ExtraTreesRegressor(), 'regresso...          -8.874780   \n",
              "897  {'regressor': ExtraTreesRegressor(), 'regresso...          -8.912517   \n",
              "898  {'regressor': ExtraTreesRegressor(), 'regresso...          -8.883182   \n",
              "881  {'regressor': ExtraTreesRegressor(), 'regresso...          -8.903806   \n",
              "882  {'regressor': ExtraTreesRegressor(), 'regresso...          -8.899970   \n",
              "\n",
              "     split1_test_score  split2_test_score  split3_test_score  mean_test_score  \\\n",
              "850          -5.427492          -3.881547          -4.656697        -4.939823   \n",
              "873          -5.513658          -3.831678          -4.535811        -4.943532   \n",
              "859          -5.554367          -3.892455          -4.516246        -4.952139   \n",
              "865          -5.596411          -3.846132          -4.620790        -4.952818   \n",
              "855          -5.469323          -3.963068          -4.527379        -4.954709   \n",
              "..                 ...                ...                ...              ...   \n",
              "893          -8.510697          -6.623900          -7.931591        -7.985242   \n",
              "897          -8.499853          -6.641989          -7.932926        -7.996821   \n",
              "898          -8.531068          -6.692153          -7.883186        -7.997397   \n",
              "881          -8.503768          -6.650641          -7.932365        -7.997645   \n",
              "882          -8.540454          -6.645261          -7.960421        -8.011527   \n",
              "\n",
              "     std_test_score  rank_test_score  \n",
              "850        0.736000                1  \n",
              "873        0.810702                2  \n",
              "859        0.786397                3  \n",
              "865        0.771594                4  \n",
              "855        0.749775                5  \n",
              "..              ...              ...  \n",
              "893        0.854914             1028  \n",
              "897        0.856036             1029  \n",
              "898        0.834584             1030  \n",
              "881        0.850877             1031  \n",
              "882        0.857087             1032  \n",
              "\n",
              "[1032 rows x 16 columns]"
            ],
            "text/html": [
              "\n",
              "  <div id=\"df-97e18914-312e-45d3-be9a-b29cd748b942\">\n",
              "    <div class=\"colab-df-container\">\n",
              "      <div>\n",
              "<style scoped>\n",
              "    .dataframe tbody tr th:only-of-type {\n",
              "        vertical-align: middle;\n",
              "    }\n",
              "\n",
              "    .dataframe tbody tr th {\n",
              "        vertical-align: top;\n",
              "    }\n",
              "\n",
              "    .dataframe thead th {\n",
              "        text-align: right;\n",
              "    }\n",
              "</style>\n",
              "<table border=\"1\" class=\"dataframe\">\n",
              "  <thead>\n",
              "    <tr style=\"text-align: right;\">\n",
              "      <th></th>\n",
              "      <th>mean_fit_time</th>\n",
              "      <th>std_fit_time</th>\n",
              "      <th>mean_score_time</th>\n",
              "      <th>std_score_time</th>\n",
              "      <th>param_regressor</th>\n",
              "      <th>param_regressor__learning_rate</th>\n",
              "      <th>param_regressor__n_estimators</th>\n",
              "      <th>param_regressor__max_depth</th>\n",
              "      <th>params</th>\n",
              "      <th>split0_test_score</th>\n",
              "      <th>split1_test_score</th>\n",
              "      <th>split2_test_score</th>\n",
              "      <th>split3_test_score</th>\n",
              "      <th>mean_test_score</th>\n",
              "      <th>std_test_score</th>\n",
              "      <th>rank_test_score</th>\n",
              "    </tr>\n",
              "  </thead>\n",
              "  <tbody>\n",
              "    <tr>\n",
              "      <th>850</th>\n",
              "      <td>0.081493</td>\n",
              "      <td>0.003980</td>\n",
              "      <td>0.005037</td>\n",
              "      <td>0.000050</td>\n",
              "      <td>RandomForestRegressor(max_depth=6, n_estimator...</td>\n",
              "      <td>NaN</td>\n",
              "      <td>50</td>\n",
              "      <td>6</td>\n",
              "      <td>{'regressor': RandomForestRegressor(max_depth=...</td>\n",
              "      <td>-5.793554</td>\n",
              "      <td>-5.427492</td>\n",
              "      <td>-3.881547</td>\n",
              "      <td>-4.656697</td>\n",
              "      <td>-4.939823</td>\n",
              "      <td>0.736000</td>\n",
              "      <td>1</td>\n",
              "    </tr>\n",
              "    <tr>\n",
              "      <th>873</th>\n",
              "      <td>0.451646</td>\n",
              "      <td>0.005164</td>\n",
              "      <td>0.024558</td>\n",
              "      <td>0.000495</td>\n",
              "      <td>RandomForestRegressor(max_depth=6, n_estimator...</td>\n",
              "      <td>NaN</td>\n",
              "      <td>280</td>\n",
              "      <td>6</td>\n",
              "      <td>{'regressor': RandomForestRegressor(max_depth=...</td>\n",
              "      <td>-5.892980</td>\n",
              "      <td>-5.513658</td>\n",
              "      <td>-3.831678</td>\n",
              "      <td>-4.535811</td>\n",
              "      <td>-4.943532</td>\n",
              "      <td>0.810702</td>\n",
              "      <td>2</td>\n",
              "    </tr>\n",
              "    <tr>\n",
              "      <th>859</th>\n",
              "      <td>0.225667</td>\n",
              "      <td>0.003403</td>\n",
              "      <td>0.013350</td>\n",
              "      <td>0.000566</td>\n",
              "      <td>RandomForestRegressor(max_depth=6, n_estimator...</td>\n",
              "      <td>NaN</td>\n",
              "      <td>140</td>\n",
              "      <td>6</td>\n",
              "      <td>{'regressor': RandomForestRegressor(max_depth=...</td>\n",
              "      <td>-5.845487</td>\n",
              "      <td>-5.554367</td>\n",
              "      <td>-3.892455</td>\n",
              "      <td>-4.516246</td>\n",
              "      <td>-4.952139</td>\n",
              "      <td>0.786397</td>\n",
              "      <td>3</td>\n",
              "    </tr>\n",
              "    <tr>\n",
              "      <th>865</th>\n",
              "      <td>0.318857</td>\n",
              "      <td>0.009266</td>\n",
              "      <td>0.017752</td>\n",
              "      <td>0.000398</td>\n",
              "      <td>RandomForestRegressor(max_depth=6, n_estimator...</td>\n",
              "      <td>NaN</td>\n",
              "      <td>200</td>\n",
              "      <td>6</td>\n",
              "      <td>{'regressor': RandomForestRegressor(max_depth=...</td>\n",
              "      <td>-5.747939</td>\n",
              "      <td>-5.596411</td>\n",
              "      <td>-3.846132</td>\n",
              "      <td>-4.620790</td>\n",
              "      <td>-4.952818</td>\n",
              "      <td>0.771594</td>\n",
              "      <td>4</td>\n",
              "    </tr>\n",
              "    <tr>\n",
              "      <th>855</th>\n",
              "      <td>0.161699</td>\n",
              "      <td>0.004314</td>\n",
              "      <td>0.009757</td>\n",
              "      <td>0.000742</td>\n",
              "      <td>RandomForestRegressor(max_depth=6, n_estimator...</td>\n",
              "      <td>NaN</td>\n",
              "      <td>100</td>\n",
              "      <td>6</td>\n",
              "      <td>{'regressor': RandomForestRegressor(max_depth=...</td>\n",
              "      <td>-5.859064</td>\n",
              "      <td>-5.469323</td>\n",
              "      <td>-3.963068</td>\n",
              "      <td>-4.527379</td>\n",
              "      <td>-4.954709</td>\n",
              "      <td>0.749775</td>\n",
              "      <td>5</td>\n",
              "    </tr>\n",
              "    <tr>\n",
              "      <th>...</th>\n",
              "      <td>...</td>\n",
              "      <td>...</td>\n",
              "      <td>...</td>\n",
              "      <td>...</td>\n",
              "      <td>...</td>\n",
              "      <td>...</td>\n",
              "      <td>...</td>\n",
              "      <td>...</td>\n",
              "      <td>...</td>\n",
              "      <td>...</td>\n",
              "      <td>...</td>\n",
              "      <td>...</td>\n",
              "      <td>...</td>\n",
              "      <td>...</td>\n",
              "      <td>...</td>\n",
              "      <td>...</td>\n",
              "    </tr>\n",
              "    <tr>\n",
              "      <th>893</th>\n",
              "      <td>0.159408</td>\n",
              "      <td>0.003699</td>\n",
              "      <td>0.017556</td>\n",
              "      <td>0.000156</td>\n",
              "      <td>ExtraTreesRegressor()</td>\n",
              "      <td>NaN</td>\n",
              "      <td>220</td>\n",
              "      <td>1</td>\n",
              "      <td>{'regressor': ExtraTreesRegressor(), 'regresso...</td>\n",
              "      <td>-8.874780</td>\n",
              "      <td>-8.510697</td>\n",
              "      <td>-6.623900</td>\n",
              "      <td>-7.931591</td>\n",
              "      <td>-7.985242</td>\n",
              "      <td>0.854914</td>\n",
              "      <td>1028</td>\n",
              "    </tr>\n",
              "    <tr>\n",
              "      <th>897</th>\n",
              "      <td>0.191307</td>\n",
              "      <td>0.004808</td>\n",
              "      <td>0.025722</td>\n",
              "      <td>0.007581</td>\n",
              "      <td>ExtraTreesRegressor()</td>\n",
              "      <td>NaN</td>\n",
              "      <td>260</td>\n",
              "      <td>1</td>\n",
              "      <td>{'regressor': ExtraTreesRegressor(), 'regresso...</td>\n",
              "      <td>-8.912517</td>\n",
              "      <td>-8.499853</td>\n",
              "      <td>-6.641989</td>\n",
              "      <td>-7.932926</td>\n",
              "      <td>-7.996821</td>\n",
              "      <td>0.856036</td>\n",
              "      <td>1029</td>\n",
              "    </tr>\n",
              "    <tr>\n",
              "      <th>898</th>\n",
              "      <td>0.192991</td>\n",
              "      <td>0.006993</td>\n",
              "      <td>0.022279</td>\n",
              "      <td>0.002316</td>\n",
              "      <td>ExtraTreesRegressor()</td>\n",
              "      <td>NaN</td>\n",
              "      <td>270</td>\n",
              "      <td>1</td>\n",
              "      <td>{'regressor': ExtraTreesRegressor(), 'regresso...</td>\n",
              "      <td>-8.883182</td>\n",
              "      <td>-8.531068</td>\n",
              "      <td>-6.692153</td>\n",
              "      <td>-7.883186</td>\n",
              "      <td>-7.997397</td>\n",
              "      <td>0.834584</td>\n",
              "      <td>1030</td>\n",
              "    </tr>\n",
              "    <tr>\n",
              "      <th>881</th>\n",
              "      <td>0.072159</td>\n",
              "      <td>0.002539</td>\n",
              "      <td>0.009477</td>\n",
              "      <td>0.001019</td>\n",
              "      <td>ExtraTreesRegressor()</td>\n",
              "      <td>NaN</td>\n",
              "      <td>100</td>\n",
              "      <td>1</td>\n",
              "      <td>{'regressor': ExtraTreesRegressor(), 'regresso...</td>\n",
              "      <td>-8.903806</td>\n",
              "      <td>-8.503768</td>\n",
              "      <td>-6.650641</td>\n",
              "      <td>-7.932365</td>\n",
              "      <td>-7.997645</td>\n",
              "      <td>0.850877</td>\n",
              "      <td>1031</td>\n",
              "    </tr>\n",
              "    <tr>\n",
              "      <th>882</th>\n",
              "      <td>0.077659</td>\n",
              "      <td>0.001533</td>\n",
              "      <td>0.010032</td>\n",
              "      <td>0.000507</td>\n",
              "      <td>ExtraTreesRegressor()</td>\n",
              "      <td>NaN</td>\n",
              "      <td>110</td>\n",
              "      <td>1</td>\n",
              "      <td>{'regressor': ExtraTreesRegressor(), 'regresso...</td>\n",
              "      <td>-8.899970</td>\n",
              "      <td>-8.540454</td>\n",
              "      <td>-6.645261</td>\n",
              "      <td>-7.960421</td>\n",
              "      <td>-8.011527</td>\n",
              "      <td>0.857087</td>\n",
              "      <td>1032</td>\n",
              "    </tr>\n",
              "  </tbody>\n",
              "</table>\n",
              "<p>1032 rows × 16 columns</p>\n",
              "</div>\n",
              "      <button class=\"colab-df-convert\" onclick=\"convertToInteractive('df-97e18914-312e-45d3-be9a-b29cd748b942')\"\n",
              "              title=\"Convert this dataframe to an interactive table.\"\n",
              "              style=\"display:none;\">\n",
              "        \n",
              "  <svg xmlns=\"http://www.w3.org/2000/svg\" height=\"24px\"viewBox=\"0 0 24 24\"\n",
              "       width=\"24px\">\n",
              "    <path d=\"M0 0h24v24H0V0z\" fill=\"none\"/>\n",
              "    <path d=\"M18.56 5.44l.94 2.06.94-2.06 2.06-.94-2.06-.94-.94-2.06-.94 2.06-2.06.94zm-11 1L8.5 8.5l.94-2.06 2.06-.94-2.06-.94L8.5 2.5l-.94 2.06-2.06.94zm10 10l.94 2.06.94-2.06 2.06-.94-2.06-.94-.94-2.06-.94 2.06-2.06.94z\"/><path d=\"M17.41 7.96l-1.37-1.37c-.4-.4-.92-.59-1.43-.59-.52 0-1.04.2-1.43.59L10.3 9.45l-7.72 7.72c-.78.78-.78 2.05 0 2.83L4 21.41c.39.39.9.59 1.41.59.51 0 1.02-.2 1.41-.59l7.78-7.78 2.81-2.81c.8-.78.8-2.07 0-2.86zM5.41 20L4 18.59l7.72-7.72 1.47 1.35L5.41 20z\"/>\n",
              "  </svg>\n",
              "      </button>\n",
              "      \n",
              "  <style>\n",
              "    .colab-df-container {\n",
              "      display:flex;\n",
              "      flex-wrap:wrap;\n",
              "      gap: 12px;\n",
              "    }\n",
              "\n",
              "    .colab-df-convert {\n",
              "      background-color: #E8F0FE;\n",
              "      border: none;\n",
              "      border-radius: 50%;\n",
              "      cursor: pointer;\n",
              "      display: none;\n",
              "      fill: #1967D2;\n",
              "      height: 32px;\n",
              "      padding: 0 0 0 0;\n",
              "      width: 32px;\n",
              "    }\n",
              "\n",
              "    .colab-df-convert:hover {\n",
              "      background-color: #E2EBFA;\n",
              "      box-shadow: 0px 1px 2px rgba(60, 64, 67, 0.3), 0px 1px 3px 1px rgba(60, 64, 67, 0.15);\n",
              "      fill: #174EA6;\n",
              "    }\n",
              "\n",
              "    [theme=dark] .colab-df-convert {\n",
              "      background-color: #3B4455;\n",
              "      fill: #D2E3FC;\n",
              "    }\n",
              "\n",
              "    [theme=dark] .colab-df-convert:hover {\n",
              "      background-color: #434B5C;\n",
              "      box-shadow: 0px 1px 3px 1px rgba(0, 0, 0, 0.15);\n",
              "      filter: drop-shadow(0px 1px 2px rgba(0, 0, 0, 0.3));\n",
              "      fill: #FFFFFF;\n",
              "    }\n",
              "  </style>\n",
              "\n",
              "      <script>\n",
              "        const buttonEl =\n",
              "          document.querySelector('#df-97e18914-312e-45d3-be9a-b29cd748b942 button.colab-df-convert');\n",
              "        buttonEl.style.display =\n",
              "          google.colab.kernel.accessAllowed ? 'block' : 'none';\n",
              "\n",
              "        async function convertToInteractive(key) {\n",
              "          const element = document.querySelector('#df-97e18914-312e-45d3-be9a-b29cd748b942');\n",
              "          const dataTable =\n",
              "            await google.colab.kernel.invokeFunction('convertToInteractive',\n",
              "                                                     [key], {});\n",
              "          if (!dataTable) return;\n",
              "\n",
              "          const docLinkHtml = 'Like what you see? Visit the ' +\n",
              "            '<a target=\"_blank\" href=https://colab.research.google.com/notebooks/data_table.ipynb>data table notebook</a>'\n",
              "            + ' to learn more about interactive tables.';\n",
              "          element.innerHTML = '';\n",
              "          dataTable['output_type'] = 'display_data';\n",
              "          await google.colab.output.renderOutput(dataTable, element);\n",
              "          const docLink = document.createElement('div');\n",
              "          docLink.innerHTML = docLinkHtml;\n",
              "          element.appendChild(docLink);\n",
              "        }\n",
              "      </script>\n",
              "    </div>\n",
              "  </div>\n",
              "  "
            ]
          },
          "metadata": {},
          "execution_count": 38
        }
      ]
    },
    {
      "cell_type": "markdown",
      "source": [
        "## Feature selection\n",
        "The next step will be the selection of features that best adapt to our model and parameters. For this, we will use the SequentialFeatureSelector class passing as parameters the model with its hyperparameters, the number of features we want to discover, the method that the features will be chosen and the number of cross-validation subsets."
      ],
      "metadata": {
        "id": "uF3niHbTOntg"
      }
    },
    {
      "cell_type": "code",
      "source": [
        "sfs = SequentialFeatureSelector(GradientBoostingRegressor(learning_rate=0.09, \n",
        "                                                          n_estimators=250),\n",
        "                                n_features_to_select=5,\n",
        "                                direction='backward',\n",
        "                                cv=5)"
      ],
      "metadata": {
        "id": "iKuJ1bGLY2xd"
      },
      "execution_count": 39,
      "outputs": []
    },
    {
      "cell_type": "code",
      "source": [
        "sfs.fit(X_train_normalized, Y_train)"
      ],
      "metadata": {
        "colab": {
          "base_uri": "https://localhost:8080/"
        },
        "id": "93_kh5pXZAn2",
        "outputId": "0ea685f9-1271-4ba2-9942-2bf3cf5ff562"
      },
      "execution_count": 40,
      "outputs": [
        {
          "output_type": "execute_result",
          "data": {
            "text/plain": [
              "SequentialFeatureSelector(direction='backward',\n",
              "                          estimator=GradientBoostingRegressor(learning_rate=0.09,\n",
              "                                                              n_estimators=250),\n",
              "                          n_features_to_select=5)"
            ]
          },
          "metadata": {},
          "execution_count": 40
        }
      ]
    },
    {
      "cell_type": "code",
      "source": [
        "sfs.get_feature_names_out()"
      ],
      "metadata": {
        "colab": {
          "base_uri": "https://localhost:8080/"
        },
        "id": "thHdHJ9ddlpa",
        "outputId": "0b0e5ec1-68b4-413a-8e64-4bc39d673fd0"
      },
      "execution_count": 41,
      "outputs": [
        {
          "output_type": "execute_result",
          "data": {
            "text/plain": [
              "array(['NOX', 'RM', 'DIS', 'PTRATIO', 'LSTAT'], dtype=object)"
            ]
          },
          "metadata": {},
          "execution_count": 41
        }
      ]
    },
    {
      "cell_type": "markdown",
      "source": [
        "## Model Training\n",
        "Now that we have the model, hyperparameters, and feature subsets, we can train a model to predict our dataset."
      ],
      "metadata": {
        "id": "7Jnoc1TaOtt6"
      }
    },
    {
      "cell_type": "code",
      "source": [
        "reg = GradientBoostingRegressor(learning_rate=0.09, n_estimators=250)"
      ],
      "metadata": {
        "id": "LTIyW3ZLOTWw"
      },
      "execution_count": 42,
      "outputs": []
    },
    {
      "cell_type": "code",
      "source": [
        "X_test_normalized = pd.DataFrame(qt.transform(X_test), columns=X_test.columns)"
      ],
      "metadata": {
        "id": "x91aGU8W9Zoq"
      },
      "execution_count": 46,
      "outputs": []
    },
    {
      "cell_type": "code",
      "source": [
        "reg.fit(sfs.transform(X_train_normalized), Y_train)"
      ],
      "metadata": {
        "colab": {
          "base_uri": "https://localhost:8080/"
        },
        "id": "INtLankgfNew",
        "outputId": "5123c895-d9b1-4702-d574-c7314260649b"
      },
      "execution_count": 47,
      "outputs": [
        {
          "output_type": "execute_result",
          "data": {
            "text/plain": [
              "GradientBoostingRegressor(learning_rate=0.09, n_estimators=250)"
            ]
          },
          "metadata": {},
          "execution_count": 47
        }
      ]
    },
    {
      "cell_type": "markdown",
      "source": [
        "As you can see below, our model achieved a score of approximately 0.92, with the maximum possible score being 1."
      ],
      "metadata": {
        "id": "7q6_dbytRqUm"
      }
    },
    {
      "cell_type": "code",
      "source": [
        "reg.score(sfs.transform(X_test_normalized), Y_test)"
      ],
      "metadata": {
        "colab": {
          "base_uri": "https://localhost:8080/"
        },
        "id": "5fKjS3llvqUo",
        "outputId": "0d89c58a-4690-470c-8601-f3bc23bbc252"
      },
      "execution_count": 48,
      "outputs": [
        {
          "output_type": "execute_result",
          "data": {
            "text/plain": [
              "0.9209050035209656"
            ]
          },
          "metadata": {},
          "execution_count": 48
        }
      ]
    },
    {
      "cell_type": "markdown",
      "source": [
        "Plotting the loss for each iteration of our training"
      ],
      "metadata": {
        "id": "A6_h9aFPSXcA"
      }
    },
    {
      "cell_type": "code",
      "source": [
        "plt.figure(figsize=(10, 10))\n",
        "plt.ylabel('Score')\n",
        "plt.xlabel('Iterações')\n",
        "plt.plot(reg.train_score_)"
      ],
      "metadata": {
        "id": "Mb4mKKZtfhxf",
        "colab": {
          "base_uri": "https://localhost:8080/",
          "height": 623
        },
        "outputId": "358a6379-d2e6-4e07-e153-41d19947e9d0"
      },
      "execution_count": 49,
      "outputs": [
        {
          "output_type": "execute_result",
          "data": {
            "text/plain": [
              "[<matplotlib.lines.Line2D at 0x7f8be855f950>]"
            ]
          },
          "metadata": {},
          "execution_count": 49
        },
        {
          "output_type": "display_data",
          "data": {
            "text/plain": [
              "<Figure size 720x720 with 1 Axes>"
            ],
            "image/png": "[encoded data removed]"
          },
          "metadata": {
            "needs_background": "light"
          }
        }
      ]
    },
    {
      "cell_type": "markdown",
      "source": [
        "Plotting a graph comparing predictions to actual data"
      ],
      "metadata": {
        "id": "hwb_x0tqSxGf"
      }
    },
    {
      "cell_type": "code",
      "source": [
        "Y_pred = reg.predict(sfs.transform(X_test_normalized))"
      ],
      "metadata": {
        "id": "BtmAMAg5fU2G"
      },
      "execution_count": 53,
      "outputs": []
    },
    {
      "cell_type": "code",
      "source": [
        "f = plt.figure(2, figsize=(16, 8))\n",
        "plt.ylabel('Prices')\n",
        "plt.xlabel('Samples')\n",
        "plt.plot(np.array(Y_test), label='Test')\n",
        "plt.plot(Y_pred, label='Pred')\n",
        "plt.legend()"
      ],
      "metadata": {
        "colab": {
          "base_uri": "https://localhost:8080/",
          "height": 514
        },
        "id": "Axu3Ab4_maYy",
        "outputId": "110b0780-0d76-4b40-8e40-ed2fff8e260b"
      },
      "execution_count": 54,
      "outputs": [
        {
          "output_type": "execute_result",
          "data": {
            "text/plain": [
              "<matplotlib.legend.Legend at 0x7f8be80f1710>"
            ]
          },
          "metadata": {},
          "execution_count": 54
        },
        {
          "output_type": "display_data",
          "data": {
            "text/plain": [
              "<Figure size 1152x576 with 1 Axes>"
            ],
            "image/png": "[encoded data removed]"
          },
          "metadata": {
            "needs_background": "light"
          }
        }
      ]
    }
  ]
}